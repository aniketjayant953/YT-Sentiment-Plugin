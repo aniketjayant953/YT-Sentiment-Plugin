{
 "cells": [
  {
   "cell_type": "code",
   "execution_count": 3,
   "id": "d8fcd737",
   "metadata": {},
   "outputs": [],
   "source": [
    "# Step 2: Set up mlflow tracking server\n",
    "import mlflow\n",
    "\n",
    "mlflow.set_tracking_uri(\"http://ec2-13-61-19-60.eu-north-1.compute.amazonaws.com:5000/\")"
   ]
  },
  {
   "cell_type": "code",
   "execution_count": 4,
   "id": "3b5d8588",
   "metadata": {},
   "outputs": [
    {
     "data": {
      "text/plain": [
       "<Experiment: artifact_location='s3://yt-plugin-bucket/201394593778390276', creation_time=1744190402646, experiment_id='201394593778390276', last_update_time=1744190402646, lifecycle_stage='active', name='Exp 5: ML Algos with HP Tuning', tags={}>"
      ]
     },
     "execution_count": 4,
     "metadata": {},
     "output_type": "execute_result"
    }
   ],
   "source": [
    "# Set or create an experiment\n",
    "mlflow.set_experiment(\"Exp 5: ML Algos with HP Tuning\")"
   ]
  },
  {
   "cell_type": "code",
   "execution_count": 5,
   "id": "ce243c7b",
   "metadata": {},
   "outputs": [],
   "source": [
    "import pandas as pd\n",
    "from sklearn.feature_extraction.text import TfidfVectorizer\n",
    "from sklearn.model_selection import train_test_split\n",
    "from sklearn.ensemble import RandomForestClassifier\n",
    "from sklearn.metrics import accuracy_score, classification_report\n",
    "from imblearn.over_sampling import SMOTE\n",
    "import mlflow\n",
    "import mlflow.sklearn\n",
    "import optuna\n"
   ]
  },
  {
   "cell_type": "code",
   "execution_count": 6,
   "id": "841f8c92",
   "metadata": {},
   "outputs": [
    {
     "data": {
      "text/plain": [
       "(36662, 2)"
      ]
     },
     "execution_count": 6,
     "metadata": {},
     "output_type": "execute_result"
    }
   ],
   "source": [
    "df = pd.read_csv('../data/reddit_preprocessing.csv').dropna()\n",
    "df.shape"
   ]
  },
  {
   "cell_type": "code",
   "execution_count": 7,
   "id": "98e35796",
   "metadata": {},
   "outputs": [
    {
     "name": "stderr",
     "output_type": "stream",
     "text": [
      "[I 2025-04-09 15:59:36,025] A new study created in memory with name: no-name-b51389cf-438f-4985-8d95-01b2d4f49c41\n",
      "[I 2025-04-09 15:59:37,251] Trial 0 finished with value: 0.6398224476854788 and parameters: {'n_estimators': 59, 'max_depth': 6, 'min_samples_split': 18, 'min_samples_leaf': 3}. Best is trial 0 with value: 0.6398224476854788.\n",
      "[I 2025-04-09 15:59:41,472] Trial 1 finished with value: 0.7010145846544071 and parameters: {'n_estimators': 126, 'max_depth': 16, 'min_samples_split': 18, 'min_samples_leaf': 2}. Best is trial 1 with value: 0.7010145846544071.\n",
      "[I 2025-04-09 15:59:44,607] Trial 2 finished with value: 0.6950961741703656 and parameters: {'n_estimators': 115, 'max_depth': 17, 'min_samples_split': 20, 'min_samples_leaf': 8}. Best is trial 1 with value: 0.7010145846544071.\n",
      "[I 2025-04-09 15:59:48,564] Trial 3 finished with value: 0.6326358063834284 and parameters: {'n_estimators': 154, 'max_depth': 4, 'min_samples_split': 18, 'min_samples_leaf': 18}. Best is trial 1 with value: 0.7010145846544071.\n",
      "[I 2025-04-09 15:59:51,776] Trial 4 finished with value: 0.6670894102726697 and parameters: {'n_estimators': 70, 'max_depth': 10, 'min_samples_split': 7, 'min_samples_leaf': 3}. Best is trial 1 with value: 0.7010145846544071.\n",
      "[I 2025-04-09 16:00:06,682] Trial 5 finished with value: 0.704713591206933 and parameters: {'n_estimators': 199, 'max_depth': 18, 'min_samples_split': 15, 'min_samples_leaf': 3}. Best is trial 5 with value: 0.704713591206933.\n",
      "[I 2025-04-09 16:00:15,805] Trial 6 finished with value: 0.7004861551469034 and parameters: {'n_estimators': 157, 'max_depth': 17, 'min_samples_split': 20, 'min_samples_leaf': 3}. Best is trial 5 with value: 0.704713591206933.\n",
      "[I 2025-04-09 16:00:20,309] Trial 7 finished with value: 0.6592686535616149 and parameters: {'n_estimators': 213, 'max_depth': 9, 'min_samples_split': 13, 'min_samples_leaf': 15}. Best is trial 5 with value: 0.704713591206933.\n",
      "[I 2025-04-09 16:00:24,304] Trial 8 finished with value: 0.6779750581272458 and parameters: {'n_estimators': 229, 'max_depth': 12, 'min_samples_split': 17, 'min_samples_leaf': 9}. Best is trial 5 with value: 0.704713591206933.\n",
      "[I 2025-04-09 16:00:26,480] Trial 9 finished with value: 0.6418304798139928 and parameters: {'n_estimators': 221, 'max_depth': 6, 'min_samples_split': 7, 'min_samples_leaf': 14}. Best is trial 5 with value: 0.704713591206933.\n",
      "[I 2025-04-09 16:00:34,137] Trial 10 finished with value: 0.7042908476009301 and parameters: {'n_estimators': 255, 'max_depth': 20, 'min_samples_split': 2, 'min_samples_leaf': 7}. Best is trial 5 with value: 0.704713591206933.\n",
      "[I 2025-04-09 16:00:42,802] Trial 11 finished with value: 0.703128302684422 and parameters: {'n_estimators': 296, 'max_depth': 20, 'min_samples_split': 3, 'min_samples_leaf': 7}. Best is trial 5 with value: 0.704713591206933.\n",
      "[I 2025-04-09 16:00:51,897] Trial 12 finished with value: 0.7045022194039315 and parameters: {'n_estimators': 291, 'max_depth': 20, 'min_samples_split': 12, 'min_samples_leaf': 6}. Best is trial 5 with value: 0.704713591206933.\n",
      "[I 2025-04-09 16:00:58,397] Trial 13 finished with value: 0.686007186641302 and parameters: {'n_estimators': 297, 'max_depth': 14, 'min_samples_split': 13, 'min_samples_leaf': 5}. Best is trial 5 with value: 0.704713591206933.\n",
      "[I 2025-04-09 16:01:05,474] Trial 14 finished with value: 0.697421264003382 and parameters: {'n_estimators': 257, 'max_depth': 20, 'min_samples_split': 11, 'min_samples_leaf': 12}. Best is trial 5 with value: 0.704713591206933.\n",
      "[I 2025-04-09 16:01:14,534] Trial 15 finished with value: 0.6953075459733672 and parameters: {'n_estimators': 186, 'max_depth': 14, 'min_samples_split': 14, 'min_samples_leaf': 1}. Best is trial 5 with value: 0.704713591206933.\n",
      "[I 2025-04-09 16:01:30,578] Trial 16 finished with value: 0.7020714436694145 and parameters: {'n_estimators': 265, 'max_depth': 18, 'min_samples_split': 9, 'min_samples_leaf': 5}. Best is trial 5 with value: 0.704713591206933.\n",
      "[I 2025-04-09 16:01:34,936] Trial 17 finished with value: 0.6874867892623124 and parameters: {'n_estimators': 189, 'max_depth': 15, 'min_samples_split': 15, 'min_samples_leaf': 10}. Best is trial 5 with value: 0.704713591206933.\n",
      "[I 2025-04-09 16:01:38,193] Trial 18 finished with value: 0.6976326358063835 and parameters: {'n_estimators': 105, 'max_depth': 18, 'min_samples_split': 11, 'min_samples_leaf': 5}. Best is trial 5 with value: 0.704713591206933.\n",
      "[I 2025-04-09 16:01:45,354] Trial 19 finished with value: 0.683576410906785 and parameters: {'n_estimators': 280, 'max_depth': 13, 'min_samples_split': 16, 'min_samples_leaf': 6}. Best is trial 5 with value: 0.704713591206933.\n",
      "[I 2025-04-09 16:01:52,335] Trial 20 finished with value: 0.6923483407313464 and parameters: {'n_estimators': 211, 'max_depth': 18, 'min_samples_split': 9, 'min_samples_leaf': 20}. Best is trial 5 with value: 0.704713591206933.\n",
      "[I 2025-04-09 16:01:59,657] Trial 21 finished with value: 0.706298879729444 and parameters: {'n_estimators': 248, 'max_depth': 20, 'min_samples_split': 3, 'min_samples_leaf': 7}. Best is trial 21 with value: 0.706298879729444.\n",
      "[I 2025-04-09 16:02:05,741] Trial 22 finished with value: 0.7011202705559079 and parameters: {'n_estimators': 239, 'max_depth': 20, 'min_samples_split': 5, 'min_samples_leaf': 11}. Best is trial 21 with value: 0.706298879729444.\n",
      "[I 2025-04-09 16:02:14,604] Trial 23 finished with value: 0.7036567321919256 and parameters: {'n_estimators': 278, 'max_depth': 19, 'min_samples_split': 12, 'min_samples_leaf': 4}. Best is trial 21 with value: 0.706298879729444.\n",
      "[I 2025-04-09 16:02:21,728] Trial 24 finished with value: 0.7005918410484041 and parameters: {'n_estimators': 242, 'max_depth': 16, 'min_samples_split': 9, 'min_samples_leaf': 1}. Best is trial 21 with value: 0.706298879729444.\n",
      "[I 2025-04-09 16:02:26,924] Trial 25 finished with value: 0.6981610653138871 and parameters: {'n_estimators': 200, 'max_depth': 18, 'min_samples_split': 15, 'min_samples_leaf': 8}. Best is trial 21 with value: 0.706298879729444.\n",
      "[I 2025-04-09 16:02:31,131] Trial 26 finished with value: 0.6957302895793701 and parameters: {'n_estimators': 166, 'max_depth': 16, 'min_samples_split': 5, 'min_samples_leaf': 6}. Best is trial 21 with value: 0.706298879729444.\n",
      "[I 2025-04-09 16:02:38,312] Trial 27 finished with value: 0.699006552525893 and parameters: {'n_estimators': 276, 'max_depth': 19, 'min_samples_split': 10, 'min_samples_leaf': 9}. Best is trial 21 with value: 0.706298879729444.\n",
      "[I 2025-04-09 16:02:41,970] Trial 28 finished with value: 0.6669837243711689 and parameters: {'n_estimators': 245, 'max_depth': 10, 'min_samples_split': 13, 'min_samples_leaf': 12}. Best is trial 21 with value: 0.706298879729444.\n",
      "[I 2025-04-09 16:02:53,194] Trial 29 finished with value: 0.7051363348129359 and parameters: {'n_estimators': 229, 'max_depth': 19, 'min_samples_split': 7, 'min_samples_leaf': 3}. Best is trial 21 with value: 0.706298879729444.\n",
      "2025/04/09 16:03:16 WARNING mlflow.models.model: Model logged without a signature and input example. Please set `input_example` parameter when logging the model to auto infer the model signature.\n"
     ]
    },
    {
     "name": "stdout",
     "output_type": "stream",
     "text": [
      "🏃 View run RandomForest_SMOTE_TFIDF_Trigrams at: http://ec2-13-61-19-60.eu-north-1.compute.amazonaws.com:5000/#/experiments/201394593778390276/runs/a5391b11547c48dea05470507f2b68f2\n",
      "🧪 View experiment at: http://ec2-13-61-19-60.eu-north-1.compute.amazonaws.com:5000/#/experiments/201394593778390276\n"
     ]
    }
   ],
   "source": [
    "# Step 1: (Optional) Remapping - skipped since not strictly needed for Random Forest\n",
    "\n",
    "# Step 2: Remove rows where the target labels (category) are NaN\n",
    "df = df.dropna(subset=['category'])\n",
    "\n",
    "# Step 3: TF-IDF vectorizer setup\n",
    "ngram_range = (1, 3)  # Trigram\n",
    "max_features = 1000  # Set max_features to 1000\n",
    "vectorizer = TfidfVectorizer(ngram_range=ngram_range, max_features=max_features)\n",
    "X = vectorizer.fit_transform(df['clean_comment'])\n",
    "y = df['category']\n",
    "\n",
    "# Step 4: Apply SMOTE to handle class imbalance\n",
    "smote = SMOTE(random_state=42)\n",
    "X_resampled, y_resampled = smote.fit_resample(X, y)\n",
    "\n",
    "# Step 5: Train-test split\n",
    "X_train, X_test, y_train, y_test = train_test_split(X_resampled, y_resampled, test_size=0.2, random_state=42, stratify=y_resampled)\n",
    "\n",
    "# Function to log results in MLflow\n",
    "def log_mlflow(model_name, model, X_train, X_test, y_train, y_test):\n",
    "    with mlflow.start_run():\n",
    "        # Log model type\n",
    "        mlflow.set_tag(\"mlflow.runName\", f\"{model_name}_SMOTE_TFIDF_Trigrams\")\n",
    "        mlflow.set_tag(\"experiment_type\", \"algorithm_comparison\")\n",
    "\n",
    "        # Log algorithm name as a parameter\n",
    "        mlflow.log_param(\"algo_name\", model_name)\n",
    "\n",
    "        # Train model\n",
    "        model.fit(X_train, y_train)\n",
    "        y_pred = model.predict(X_test)\n",
    "\n",
    "        # Log accuracy\n",
    "        accuracy = accuracy_score(y_test, y_pred)\n",
    "        mlflow.log_metric(\"accuracy\", accuracy)\n",
    "\n",
    "        # Log classification report\n",
    "        classification_rep = classification_report(y_test, y_pred, output_dict=True)\n",
    "        for label, metrics in classification_rep.items():\n",
    "            if isinstance(metrics, dict):\n",
    "                for metric, value in metrics.items():\n",
    "                    mlflow.log_metric(f\"{label}_{metric}\", value)\n",
    "\n",
    "        # Log the model\n",
    "        mlflow.sklearn.log_model(model, f\"{model_name}_model\")\n",
    "\n",
    "\n",
    "# Step 6: Optuna objective function for Random Forest\n",
    "def objective_rf(trial):\n",
    "    n_estimators = trial.suggest_int('n_estimators', 50, 300)  # Number of trees in the forest\n",
    "    max_depth = trial.suggest_int('max_depth', 3, 20)  # Maximum depth of the tree\n",
    "    min_samples_split = trial.suggest_int('min_samples_split', 2, 20)  # Minimum samples required to split a node\n",
    "    min_samples_leaf = trial.suggest_int('min_samples_leaf', 1, 20)  # Minimum samples required at a leaf node\n",
    "\n",
    "    # RandomForestClassifier setup\n",
    "    model = RandomForestClassifier(n_estimators=n_estimators, max_depth=max_depth,\n",
    "                                   min_samples_split=min_samples_split, min_samples_leaf=min_samples_leaf,\n",
    "                                   random_state=42)\n",
    "    return accuracy_score(y_test, model.fit(X_train, y_train).predict(X_test))\n",
    "\n",
    "\n",
    "# Step 7: Run Optuna for Random Forest, log the best model only\n",
    "def run_optuna_experiment():\n",
    "    study = optuna.create_study(direction=\"maximize\")\n",
    "    study.optimize(objective_rf, n_trials=30)\n",
    "\n",
    "    # Get the best parameters and log only the best model\n",
    "    best_params = study.best_params\n",
    "    best_model = RandomForestClassifier(n_estimators=best_params['n_estimators'],\n",
    "                                        max_depth=best_params['max_depth'],\n",
    "                                        min_samples_split=best_params['min_samples_split'],\n",
    "                                        min_samples_leaf=best_params['min_samples_leaf'],\n",
    "                                        random_state=42)\n",
    "\n",
    "    # Log the best model with MLflow, passing the algo_name as \"RandomForest\"\n",
    "    log_mlflow(\"RandomForest\", best_model, X_train, X_test, y_train, y_test)\n",
    "\n",
    "# Run the experiment for Random Forest\n",
    "run_optuna_experiment()\n"
   ]
  },
  {
   "cell_type": "code",
   "execution_count": null,
   "id": "bc5f7301",
   "metadata": {},
   "outputs": [],
   "source": []
  }
 ],
 "metadata": {
  "kernelspec": {
   "display_name": "base",
   "language": "python",
   "name": "python3"
  },
  "language_info": {
   "codemirror_mode": {
    "name": "ipython",
    "version": 3
   },
   "file_extension": ".py",
   "mimetype": "text/x-python",
   "name": "python",
   "nbconvert_exporter": "python",
   "pygments_lexer": "ipython3",
   "version": "3.12.4"
  }
 },
 "nbformat": 4,
 "nbformat_minor": 5
}
