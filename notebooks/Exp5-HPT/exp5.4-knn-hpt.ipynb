{
 "cells": [
  {
   "cell_type": "code",
   "execution_count": 3,
   "id": "d8fcd737",
   "metadata": {},
   "outputs": [],
   "source": [
    "# Step 2: Set up mlflow tracking server\n",
    "import mlflow\n",
    "\n",
    "mlflow.set_tracking_uri(\"http://ec2-13-61-19-60.eu-north-1.compute.amazonaws.com:5000/\")"
   ]
  },
  {
   "cell_type": "code",
   "execution_count": 4,
   "id": "3b5d8588",
   "metadata": {},
   "outputs": [
    {
     "data": {
      "text/plain": [
       "<Experiment: artifact_location='s3://yt-plugin-bucket/201394593778390276', creation_time=1744190402646, experiment_id='201394593778390276', last_update_time=1744190402646, lifecycle_stage='active', name='Exp 5: ML Algos with HP Tuning', tags={}>"
      ]
     },
     "execution_count": 4,
     "metadata": {},
     "output_type": "execute_result"
    }
   ],
   "source": [
    "# Set or create an experiment\n",
    "mlflow.set_experiment(\"Exp 5: ML Algos with HP Tuning\")"
   ]
  },
  {
   "cell_type": "code",
   "execution_count": 5,
   "id": "ce243c7b",
   "metadata": {},
   "outputs": [],
   "source": [
    "import pandas as pd\n",
    "from sklearn.feature_extraction.text import TfidfVectorizer\n",
    "from sklearn.model_selection import train_test_split\n",
    "from sklearn.metrics import accuracy_score, classification_report\n",
    "from sklearn.neighbors import KNeighborsClassifier\n",
    "from imblearn.over_sampling import SMOTE\n",
    "import mlflow\n",
    "import mlflow.sklearn\n",
    "import optuna"
   ]
  },
  {
   "cell_type": "code",
   "execution_count": 6,
   "id": "841f8c92",
   "metadata": {},
   "outputs": [
    {
     "data": {
      "text/plain": [
       "(36662, 2)"
      ]
     },
     "execution_count": 6,
     "metadata": {},
     "output_type": "execute_result"
    }
   ],
   "source": [
    "df = pd.read_csv('../data/reddit_preprocessing.csv').dropna()\n",
    "df.shape"
   ]
  },
  {
   "cell_type": "code",
   "execution_count": 7,
   "id": "98e35796",
   "metadata": {},
   "outputs": [
    {
     "name": "stderr",
     "output_type": "stream",
     "text": [
      "[I 2025-04-09 15:59:18,417] A new study created in memory with name: no-name-79dd6528-4688-47c5-8da6-f24aabde5f5f\n",
      "[I 2025-04-09 15:59:26,753] Trial 0 finished with value: 0.5710209258084972 and parameters: {'n_neighbors': 11, 'p': 2}. Best is trial 0 with value: 0.5710209258084972.\n",
      "[I 2025-04-09 15:59:29,254] Trial 1 finished with value: 0.3784612132741492 and parameters: {'n_neighbors': 30, 'p': 1}. Best is trial 0 with value: 0.5710209258084972.\n",
      "[I 2025-04-09 15:59:31,612] Trial 2 finished with value: 0.38522511097019657 and parameters: {'n_neighbors': 25, 'p': 1}. Best is trial 0 with value: 0.5710209258084972.\n",
      "[I 2025-04-09 15:59:33,782] Trial 3 finished with value: 0.3985415345592898 and parameters: {'n_neighbors': 11, 'p': 1}. Best is trial 0 with value: 0.5710209258084972.\n",
      "[I 2025-04-09 15:59:35,921] Trial 4 finished with value: 0.3948425280067639 and parameters: {'n_neighbors': 17, 'p': 1}. Best is trial 0 with value: 0.5710209258084972.\n",
      "[I 2025-04-09 15:59:38,009] Trial 5 finished with value: 0.3794123863876559 and parameters: {'n_neighbors': 29, 'p': 1}. Best is trial 0 with value: 0.5710209258084972.\n",
      "[I 2025-04-09 15:59:45,504] Trial 6 finished with value: 0.5776791376030438 and parameters: {'n_neighbors': 9, 'p': 2}. Best is trial 6 with value: 0.5776791376030438.\n",
      "[I 2025-04-09 15:59:50,196] Trial 7 finished with value: 0.396850560135278 and parameters: {'n_neighbors': 12, 'p': 1}. Best is trial 6 with value: 0.5776791376030438.\n",
      "[I 2025-04-09 16:00:01,017] Trial 8 finished with value: 0.54713591206933 and parameters: {'n_neighbors': 21, 'p': 2}. Best is trial 6 with value: 0.5776791376030438.\n",
      "[I 2025-04-09 16:00:05,235] Trial 9 finished with value: 0.39473684210526316 and parameters: {'n_neighbors': 16, 'p': 1}. Best is trial 6 with value: 0.5776791376030438.\n",
      "[I 2025-04-09 16:00:16,074] Trial 10 finished with value: 0.5959627985626718 and parameters: {'n_neighbors': 4, 'p': 2}. Best is trial 10 with value: 0.5959627985626718.\n",
      "[I 2025-04-09 16:00:22,149] Trial 11 finished with value: 0.6034664975692242 and parameters: {'n_neighbors': 3, 'p': 2}. Best is trial 11 with value: 0.6034664975692242.\n",
      "[I 2025-04-09 16:00:26,968] Trial 12 finished with value: 0.6034664975692242 and parameters: {'n_neighbors': 3, 'p': 2}. Best is trial 11 with value: 0.6034664975692242.\n",
      "[I 2025-04-09 16:00:31,784] Trial 13 finished with value: 0.6034664975692242 and parameters: {'n_neighbors': 3, 'p': 2}. Best is trial 11 with value: 0.6034664975692242.\n",
      "[I 2025-04-09 16:00:38,369] Trial 14 finished with value: 0.5877192982456141 and parameters: {'n_neighbors': 6, 'p': 2}. Best is trial 11 with value: 0.6034664975692242.\n",
      "[I 2025-04-09 16:00:44,966] Trial 15 finished with value: 0.5833861762840837 and parameters: {'n_neighbors': 7, 'p': 2}. Best is trial 11 with value: 0.6034664975692242.\n",
      "[I 2025-04-09 16:00:49,816] Trial 16 finished with value: 0.6034664975692242 and parameters: {'n_neighbors': 3, 'p': 2}. Best is trial 11 with value: 0.6034664975692242.\n",
      "[I 2025-04-09 16:00:56,417] Trial 17 finished with value: 0.560558021559924 and parameters: {'n_neighbors': 15, 'p': 2}. Best is trial 11 with value: 0.6034664975692242.\n",
      "[I 2025-04-09 16:01:03,010] Trial 18 finished with value: 0.5833861762840837 and parameters: {'n_neighbors': 7, 'p': 2}. Best is trial 11 with value: 0.6034664975692242.\n",
      "[I 2025-04-09 16:01:12,661] Trial 19 finished with value: 0.5505178609173537 and parameters: {'n_neighbors': 20, 'p': 2}. Best is trial 11 with value: 0.6034664975692242.\n",
      "[I 2025-04-09 16:01:23,395] Trial 20 finished with value: 0.5877192982456141 and parameters: {'n_neighbors': 6, 'p': 2}. Best is trial 11 with value: 0.6034664975692242.\n",
      "[I 2025-04-09 16:01:31,193] Trial 21 finished with value: 0.6034664975692242 and parameters: {'n_neighbors': 3, 'p': 2}. Best is trial 11 with value: 0.6034664975692242.\n",
      "[I 2025-04-09 16:01:38,065] Trial 22 finished with value: 0.5922637920101459 and parameters: {'n_neighbors': 5, 'p': 2}. Best is trial 11 with value: 0.6034664975692242.\n",
      "[I 2025-04-09 16:01:46,746] Trial 23 finished with value: 0.5776791376030438 and parameters: {'n_neighbors': 9, 'p': 2}. Best is trial 11 with value: 0.6034664975692242.\n",
      "[I 2025-04-09 16:01:53,173] Trial 24 finished with value: 0.6034664975692242 and parameters: {'n_neighbors': 3, 'p': 2}. Best is trial 11 with value: 0.6034664975692242.\n",
      "[I 2025-04-09 16:01:59,734] Trial 25 finished with value: 0.5788416825195519 and parameters: {'n_neighbors': 8, 'p': 2}. Best is trial 11 with value: 0.6034664975692242.\n",
      "[I 2025-04-09 16:02:06,250] Trial 26 finished with value: 0.5644683999154513 and parameters: {'n_neighbors': 14, 'p': 2}. Best is trial 11 with value: 0.6034664975692242.\n",
      "[I 2025-04-09 16:02:12,817] Trial 27 finished with value: 0.5922637920101459 and parameters: {'n_neighbors': 5, 'p': 2}. Best is trial 11 with value: 0.6034664975692242.\n",
      "[I 2025-04-09 16:02:19,393] Trial 28 finished with value: 0.5776791376030438 and parameters: {'n_neighbors': 9, 'p': 2}. Best is trial 11 with value: 0.6034664975692242.\n",
      "[I 2025-04-09 16:02:25,989] Trial 29 finished with value: 0.5659480025364616 and parameters: {'n_neighbors': 13, 'p': 2}. Best is trial 11 with value: 0.6034664975692242.\n",
      "2025/04/09 16:02:47 WARNING mlflow.models.model: Model logged without a signature and input example. Please set `input_example` parameter when logging the model to auto infer the model signature.\n"
     ]
    },
    {
     "name": "stdout",
     "output_type": "stream",
     "text": [
      "🏃 View run KNN_SMOTE_TFIDF_Trigrams at: http://ec2-13-61-19-60.eu-north-1.compute.amazonaws.com:5000/#/experiments/201394593778390276/runs/3a37474952434bcb84aaf570c98de056\n",
      "🧪 View experiment at: http://ec2-13-61-19-60.eu-north-1.compute.amazonaws.com:5000/#/experiments/201394593778390276\n"
     ]
    }
   ],
   "source": [
    "# Step 1: Remap the class labels from [-1, 0, 1] to [2, 0, 1]\n",
    "df['category'] = df['category'].map({-1: 2, 0: 0, 1: 1})\n",
    "\n",
    "# Step 2: Remove rows where the target labels (category) are NaN\n",
    "df = df.dropna(subset=['category'])\n",
    "\n",
    "# Step 3: TF-IDF vectorizer setup\n",
    "ngram_range = (1, 3)  # Trigram\n",
    "max_features = 1000  # Set max_features to 1000\n",
    "vectorizer = TfidfVectorizer(ngram_range=ngram_range, max_features=max_features)\n",
    "X = vectorizer.fit_transform(df['clean_comment'])\n",
    "y = df['category']\n",
    "\n",
    "# Step 4: Apply SMOTE to handle class imbalance\n",
    "smote = SMOTE(random_state=42)\n",
    "X_resampled, y_resampled = smote.fit_resample(X, y)\n",
    "\n",
    "# Step 5: Train-test split\n",
    "X_train, X_test, y_train, y_test = train_test_split(X_resampled, y_resampled, test_size=0.2, random_state=42, stratify=y_resampled)\n",
    "\n",
    "# Function to log results in MLflow\n",
    "def log_mlflow(model_name, model, X_train, X_test, y_train, y_test):\n",
    "    with mlflow.start_run():\n",
    "        # Log model type\n",
    "        mlflow.set_tag(\"mlflow.runName\", f\"{model_name}_SMOTE_TFIDF_Trigrams\")\n",
    "        mlflow.set_tag(\"experiment_type\", \"algorithm_comparison\")\n",
    "\n",
    "        # Log algorithm name as a parameter\n",
    "        mlflow.log_param(\"algo_name\", model_name)\n",
    "\n",
    "        # Train model\n",
    "        model.fit(X_train, y_train)\n",
    "        y_pred = model.predict(X_test)\n",
    "\n",
    "        # Log accuracy\n",
    "        accuracy = accuracy_score(y_test, y_pred)\n",
    "        mlflow.log_metric(\"accuracy\", accuracy)\n",
    "\n",
    "        # Log classification report\n",
    "        classification_rep = classification_report(y_test, y_pred, output_dict=True)\n",
    "        for label, metrics in classification_rep.items():\n",
    "            if isinstance(metrics, dict):\n",
    "                for metric, value in metrics.items():\n",
    "                    mlflow.log_metric(f\"{label}_{metric}\", value)\n",
    "\n",
    "        # Log the model\n",
    "        mlflow.sklearn.log_model(model, f\"{model_name}_model\")\n",
    "\n",
    "\n",
    "# Step 6: Optuna objective function for LightGBM\n",
    "def objective_lightgbm(trial):\n",
    "    n_neighbors = trial.suggest_int('n_neighbors',3, 30)\n",
    "    p = trial.suggest_categorical('p', [1, 2])\n",
    "\n",
    "    model = KNeighborsClassifier(n_neighbors=n_neighbors, p=p)\n",
    "    return accuracy_score(y_test, model.fit(X_train, y_train).predict(X_test))\n",
    "\n",
    "\n",
    "# Step 7: Run Optuna for LightGBM, log the best model only\n",
    "def run_optuna_experiment():\n",
    "    study = optuna.create_study(direction=\"maximize\")\n",
    "    study.optimize(objective_lightgbm, n_trials=30)\n",
    "\n",
    "    # Get the best parameters and log only the best model\n",
    "    best_params = study.best_params\n",
    "    best_model = model = KNeighborsClassifier(n_neighbors=best_params[\"n_neighbors\"], p=best_params['p'])\n",
    "    # Log the best model with MLflow, passing the algo_name as \"LightGBM\"\n",
    "    log_mlflow(\"KNN\", best_model, X_train, X_test, y_train, y_test)\n",
    "\n",
    "# Run the experiment for LightGBM\n",
    "run_optuna_experiment()\n"
   ]
  },
  {
   "cell_type": "code",
   "execution_count": null,
   "id": "dabc9a31",
   "metadata": {},
   "outputs": [],
   "source": []
  },
  {
   "cell_type": "code",
   "execution_count": null,
   "id": "205ec15f",
   "metadata": {},
   "outputs": [],
   "source": []
  }
 ],
 "metadata": {
  "kernelspec": {
   "display_name": "base",
   "language": "python",
   "name": "python3"
  },
  "language_info": {
   "codemirror_mode": {
    "name": "ipython",
    "version": 3
   },
   "file_extension": ".py",
   "mimetype": "text/x-python",
   "name": "python",
   "nbconvert_exporter": "python",
   "pygments_lexer": "ipython3",
   "version": "3.12.4"
  }
 },
 "nbformat": 4,
 "nbformat_minor": 5
}
