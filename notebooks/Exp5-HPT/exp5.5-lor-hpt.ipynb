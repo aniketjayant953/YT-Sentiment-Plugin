{
 "cells": [
  {
   "cell_type": "code",
   "execution_count": 6,
   "id": "d8fcd737",
   "metadata": {},
   "outputs": [],
   "source": [
    "# Step 2: Set up mlflow tracking server\n",
    "import mlflow\n",
    "\n",
    "mlflow.set_tracking_uri(\"http://ec2-13-61-19-60.eu-north-1.compute.amazonaws.com:5000/\")"
   ]
  },
  {
   "cell_type": "code",
   "execution_count": 7,
   "id": "3b5d8588",
   "metadata": {},
   "outputs": [
    {
     "data": {
      "text/plain": [
       "<Experiment: artifact_location='s3://yt-plugin-bucket/201394593778390276', creation_time=1744190402646, experiment_id='201394593778390276', last_update_time=1744190402646, lifecycle_stage='active', name='Exp 5: ML Algos with HP Tuning', tags={}>"
      ]
     },
     "execution_count": 7,
     "metadata": {},
     "output_type": "execute_result"
    }
   ],
   "source": [
    "# Set or create an experiment\n",
    "mlflow.set_experiment(\"Exp 5: ML Algos with HP Tuning\")"
   ]
  },
  {
   "cell_type": "code",
   "execution_count": 8,
   "id": "ce243c7b",
   "metadata": {},
   "outputs": [],
   "source": [
    "import pandas as pd\n",
    "from sklearn.feature_extraction.text import TfidfVectorizer\n",
    "from sklearn.model_selection import train_test_split\n",
    "from sklearn.metrics import accuracy_score, classification_report\n",
    "from sklearn.linear_model import LogisticRegression\n",
    "from imblearn.over_sampling import SMOTE\n",
    "import mlflow\n",
    "import mlflow.sklearn\n",
    "import optuna"
   ]
  },
  {
   "cell_type": "code",
   "execution_count": 9,
   "id": "841f8c92",
   "metadata": {},
   "outputs": [
    {
     "data": {
      "text/plain": [
       "(36662, 2)"
      ]
     },
     "execution_count": 9,
     "metadata": {},
     "output_type": "execute_result"
    }
   ],
   "source": [
    "df = pd.read_csv('../data/reddit_preprocessing.csv').dropna()\n",
    "df.shape"
   ]
  },
  {
   "cell_type": "code",
   "execution_count": 10,
   "id": "98e35796",
   "metadata": {},
   "outputs": [
    {
     "name": "stderr",
     "output_type": "stream",
     "text": [
      "[I 2025-04-09 15:59:23,259] A new study created in memory with name: no-name-c7c74676-92b0-47b8-938f-6a265d9166a0\n",
      "[I 2025-04-09 15:59:23,345] Trial 0 finished with value: 0.6388712745719721 and parameters: {'C': 0.0002278318227861861, 'penalty': 'l2'}. Best is trial 0 with value: 0.6388712745719721.\n",
      "[I 2025-04-09 15:59:23,496] Trial 1 finished with value: 0.7452969773832171 and parameters: {'C': 0.15441689030075012, 'penalty': 'l2'}. Best is trial 1 with value: 0.7452969773832171.\n",
      "[I 2025-04-09 15:59:23,660] Trial 2 finished with value: 0.7480448108222363 and parameters: {'C': 0.17616619103433717, 'penalty': 'l2'}. Best is trial 2 with value: 0.7480448108222363.\n",
      "[I 2025-04-09 15:59:23,710] Trial 3 finished with value: 0.3333333333333333 and parameters: {'C': 0.0007114654852246988, 'penalty': 'l1'}. Best is trial 2 with value: 0.7480448108222363.\n",
      "[I 2025-04-09 15:59:23,914] Trial 4 finished with value: 0.7838723314309871 and parameters: {'C': 1.9259015355391158, 'penalty': 'l1'}. Best is trial 4 with value: 0.7838723314309871.\n",
      "[I 2025-04-09 15:59:24,074] Trial 5 finished with value: 0.7814415556964701 and parameters: {'C': 0.5758532172069553, 'penalty': 'l1'}. Best is trial 4 with value: 0.7838723314309871.\n",
      "[I 2025-04-09 15:59:24,434] Trial 6 finished with value: 0.7777425491439443 and parameters: {'C': 6.436895767203941, 'penalty': 'l2'}. Best is trial 4 with value: 0.7838723314309871.\n",
      "[I 2025-04-09 15:59:24,521] Trial 7 finished with value: 0.6469034030860283 and parameters: {'C': 0.0018362403900940457, 'penalty': 'l2'}. Best is trial 4 with value: 0.7838723314309871.\n",
      "[I 2025-04-09 15:59:24,567] Trial 8 finished with value: 0.3333333333333333 and parameters: {'C': 0.00016501850362476885, 'penalty': 'l1'}. Best is trial 4 with value: 0.7838723314309871.\n",
      "[I 2025-04-09 15:59:24,790] Trial 9 finished with value: 0.78429507503699 and parameters: {'C': 2.3711157049305296, 'penalty': 'l1'}. Best is trial 9 with value: 0.78429507503699.\n",
      "[I 2025-04-09 15:59:24,897] Trial 10 finished with value: 0.610864510674276 and parameters: {'C': 0.021376809574265892, 'penalty': 'l1'}. Best is trial 9 with value: 0.78429507503699.\n",
      "[I 2025-04-09 15:59:25,170] Trial 11 finished with value: 0.7852462481504967 and parameters: {'C': 8.531012117647672, 'penalty': 'l1'}. Best is trial 11 with value: 0.7852462481504967.\n",
      "[I 2025-04-09 15:59:25,415] Trial 12 finished with value: 0.785140562248996 and parameters: {'C': 9.255907423236499, 'penalty': 'l1'}. Best is trial 11 with value: 0.7852462481504967.\n",
      "[I 2025-04-09 15:59:25,661] Trial 13 finished with value: 0.785140562248996 and parameters: {'C': 8.746657712388268, 'penalty': 'l1'}. Best is trial 11 with value: 0.7852462481504967.\n",
      "[I 2025-04-09 15:59:25,769] Trial 14 finished with value: 0.6378144155569647 and parameters: {'C': 0.02859933827851257, 'penalty': 'l1'}. Best is trial 11 with value: 0.7852462481504967.\n",
      "[I 2025-04-09 15:59:25,977] Trial 15 finished with value: 0.7821813570069752 and parameters: {'C': 1.010724786970286, 'penalty': 'l1'}. Best is trial 11 with value: 0.7852462481504967.\n",
      "[I 2025-04-09 15:59:26,041] Trial 16 finished with value: 0.3719086873811034 and parameters: {'C': 0.004941596858537837, 'penalty': 'l1'}. Best is trial 11 with value: 0.7852462481504967.\n",
      "[I 2025-04-09 15:59:26,156] Trial 17 finished with value: 0.7539632213062778 and parameters: {'C': 0.13440979694115837, 'penalty': 'l1'}. Best is trial 11 with value: 0.7852462481504967.\n",
      "[I 2025-04-09 15:59:26,360] Trial 18 finished with value: 0.7837666455294864 and parameters: {'C': 3.888854614896133, 'penalty': 'l1'}. Best is trial 11 with value: 0.7852462481504967.\n",
      "[I 2025-04-09 15:59:26,533] Trial 19 finished with value: 0.7814415556964701 and parameters: {'C': 0.5745883023026856, 'penalty': 'l1'}. Best is trial 11 with value: 0.7852462481504967.\n",
      "[I 2025-04-09 15:59:26,752] Trial 20 finished with value: 0.7849291904459945 and parameters: {'C': 8.12787463729497, 'penalty': 'l1'}. Best is trial 11 with value: 0.7852462481504967.\n",
      "[I 2025-04-09 15:59:26,971] Trial 21 finished with value: 0.785140562248996 and parameters: {'C': 8.442058759243842, 'penalty': 'l1'}. Best is trial 11 with value: 0.7852462481504967.\n",
      "[I 2025-04-09 15:59:27,243] Trial 22 finished with value: 0.7838723314309871 and parameters: {'C': 1.8869841191741041, 'penalty': 'l1'}. Best is trial 11 with value: 0.7852462481504967.\n",
      "[I 2025-04-09 15:59:27,534] Trial 23 finished with value: 0.785140562248996 and parameters: {'C': 9.2894505322874, 'penalty': 'l1'}. Best is trial 11 with value: 0.7852462481504967.\n",
      "[I 2025-04-09 15:59:27,749] Trial 24 finished with value: 0.7820756711054745 and parameters: {'C': 0.8110599013417085, 'penalty': 'l1'}. Best is trial 11 with value: 0.7852462481504967.\n",
      "[I 2025-04-09 15:59:27,953] Trial 25 finished with value: 0.7768970619319383 and parameters: {'C': 0.35664910653421417, 'penalty': 'l1'}. Best is trial 11 with value: 0.7852462481504967.\n",
      "[I 2025-04-09 15:59:28,763] Trial 26 finished with value: 0.7747833439019235 and parameters: {'C': 3.2350542989477113, 'penalty': 'l2'}. Best is trial 11 with value: 0.7852462481504967.\n",
      "[I 2025-04-09 15:59:29,148] Trial 27 finished with value: 0.7835552737264849 and parameters: {'C': 1.4977853545660418, 'penalty': 'l1'}. Best is trial 11 with value: 0.7852462481504967.\n",
      "[I 2025-04-09 15:59:29,289] Trial 28 finished with value: 0.5097231029380681 and parameters: {'C': 0.011061607125480266, 'penalty': 'l1'}. Best is trial 11 with value: 0.7852462481504967.\n",
      "[I 2025-04-09 15:59:30,021] Trial 29 finished with value: 0.7757345170154302 and parameters: {'C': 4.072131470983139, 'penalty': 'l2'}. Best is trial 11 with value: 0.7852462481504967.\n",
      "2025/04/09 15:59:49 WARNING mlflow.models.model: Model logged without a signature and input example. Please set `input_example` parameter when logging the model to auto infer the model signature.\n"
     ]
    },
    {
     "name": "stdout",
     "output_type": "stream",
     "text": [
      "🏃 View run LogisticRegression_SMOTE_TFIDF_Trigrams at: http://ec2-13-61-19-60.eu-north-1.compute.amazonaws.com:5000/#/experiments/201394593778390276/runs/923b8e121f1f4270910527d5583e9bd0\n",
      "🧪 View experiment at: http://ec2-13-61-19-60.eu-north-1.compute.amazonaws.com:5000/#/experiments/201394593778390276\n"
     ]
    }
   ],
   "source": [
    "# Step 1: Remap the class labels from [-1, 0, 1] to [2, 0, 1]\n",
    "df['category'] = df['category'].map({-1: 2, 0: 0, 1: 1})\n",
    "\n",
    "# Step 2: Remove rows where the target labels (category) are NaN\n",
    "df = df.dropna(subset=['category'])\n",
    "\n",
    "# Step 3: TF-IDF vectorizer setup\n",
    "ngram_range = (1, 3)  # Trigram\n",
    "max_features = 1000  # Set max_features to 1000\n",
    "vectorizer = TfidfVectorizer(ngram_range=ngram_range, max_features=max_features)\n",
    "X = vectorizer.fit_transform(df['clean_comment'])\n",
    "y = df['category']\n",
    "\n",
    "# Step 4: Apply SMOTE to handle class imbalance\n",
    "smote = SMOTE(random_state=42)\n",
    "X_resampled, y_resampled = smote.fit_resample(X, y)\n",
    "\n",
    "# Step 5: Train-test split\n",
    "X_train, X_test, y_train, y_test = train_test_split(X_resampled, y_resampled, test_size=0.2, random_state=42, stratify=y_resampled)\n",
    "\n",
    "# Function to log results in MLflow\n",
    "def log_mlflow(model_name, model, X_train, X_test, y_train, y_test):\n",
    "    with mlflow.start_run():\n",
    "        # Log model type\n",
    "        mlflow.set_tag(\"mlflow.runName\", f\"{model_name}_SMOTE_TFIDF_Trigrams\")\n",
    "        mlflow.set_tag(\"experiment_type\", \"algorithm_comparison\")\n",
    "\n",
    "        # Log algorithm name as a parameter\n",
    "        mlflow.log_param(\"algo_name\", model_name)\n",
    "\n",
    "        # Train model\n",
    "        model.fit(X_train, y_train)\n",
    "        y_pred = model.predict(X_test)\n",
    "\n",
    "        # Log accuracy\n",
    "        accuracy = accuracy_score(y_test, y_pred)\n",
    "        mlflow.log_metric(\"accuracy\", accuracy)\n",
    "\n",
    "        # Log classification report\n",
    "        classification_rep = classification_report(y_test, y_pred, output_dict=True)\n",
    "        for label, metrics in classification_rep.items():\n",
    "            if isinstance(metrics, dict):\n",
    "                for metric, value in metrics.items():\n",
    "                    mlflow.log_metric(f\"{label}_{metric}\", value)\n",
    "\n",
    "        # Log the model\n",
    "        mlflow.sklearn.log_model(model, f\"{model_name}_model\")\n",
    "\n",
    "\n",
    "# Step 6: Optuna objective function for LightGBM\n",
    "def objective_lightgbm(trial):\n",
    "    C = trial.suggest_float('C', 1e-4, 10.0, log=True)\n",
    "    penalty = trial.suggest_categorical('penalty', ['l1','l2'])    \n",
    "\n",
    "    model = LogisticRegression(C=C, penalty=penalty, solver='liblinear', random_state=42)\n",
    "    return accuracy_score(y_test, model.fit(X_train, y_train).predict(X_test))\n",
    "\n",
    "\n",
    "# Step 7: Run Optuna for LightGBM, log the best model only\n",
    "def run_optuna_experiment():\n",
    "    study = optuna.create_study(direction=\"maximize\")\n",
    "    study.optimize(objective_lightgbm, n_trials=30)\n",
    "\n",
    "    # Get the best parameters and log only the best model\n",
    "    best_params = study.best_params\n",
    "    best_model = model = LogisticRegression(C=best_params['C'], penalty=best_params[\"penalty\"], solver='liblinear', random_state=42)\n",
    "    # Log the best model with MLflow, passing the algo_name as \"LightGBM\"\n",
    "    log_mlflow(\"LogisticRegression\", best_model, X_train, X_test, y_train, y_test)\n",
    "\n",
    "# Run the experiment for LightGBM\n",
    "run_optuna_experiment()\n"
   ]
  },
  {
   "cell_type": "code",
   "execution_count": null,
   "id": "dabc9a31",
   "metadata": {},
   "outputs": [],
   "source": []
  }
 ],
 "metadata": {
  "kernelspec": {
   "display_name": "base",
   "language": "python",
   "name": "python3"
  },
  "language_info": {
   "codemirror_mode": {
    "name": "ipython",
    "version": 3
   },
   "file_extension": ".py",
   "mimetype": "text/x-python",
   "name": "python",
   "nbconvert_exporter": "python",
   "pygments_lexer": "ipython3",
   "version": "3.12.4"
  }
 },
 "nbformat": 4,
 "nbformat_minor": 5
}
