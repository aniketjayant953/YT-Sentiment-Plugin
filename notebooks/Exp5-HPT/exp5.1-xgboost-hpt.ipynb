{
 "cells": [
  {
   "cell_type": "code",
   "execution_count": 1,
   "id": "08f7aa75",
   "metadata": {},
   "outputs": [
    {
     "name": "stdout",
     "output_type": "stream",
     "text": [
      "Requirement already satisfied: mlflow in c:\\users\\aniket\\anaconda3\\lib\\site-packages (2.21.2)\n",
      "Requirement already satisfied: boto3 in c:\\users\\aniket\\anaconda3\\lib\\site-packages (1.37.25)\n",
      "Requirement already satisfied: awscli in c:\\users\\aniket\\anaconda3\\lib\\site-packages (1.38.25)\n",
      "Collecting optuna\n",
      "  Downloading optuna-4.2.1-py3-none-any.whl.metadata (17 kB)\n",
      "Requirement already satisfied: xgboost in c:\\users\\aniket\\anaconda3\\lib\\site-packages (2.1.2)\n",
      "Collecting lightgbm\n",
      "  Downloading lightgbm-4.6.0-py3-none-win_amd64.whl.metadata (17 kB)\n",
      "Requirement already satisfied: imbalanced-learn in c:\\users\\aniket\\anaconda3\\lib\\site-packages (0.12.3)\n",
      "Requirement already satisfied: mlflow-skinny==2.21.2 in c:\\users\\aniket\\anaconda3\\lib\\site-packages (from mlflow) (2.21.2)\n",
      "Requirement already satisfied: Flask<4 in c:\\users\\aniket\\anaconda3\\lib\\site-packages (from mlflow) (3.0.3)\n",
      "Requirement already satisfied: Jinja2<4,>=3.0 in c:\\users\\aniket\\anaconda3\\lib\\site-packages (from mlflow) (3.1.4)\n",
      "Requirement already satisfied: alembic!=1.10.0,<2 in c:\\users\\aniket\\anaconda3\\lib\\site-packages (from mlflow) (1.15.2)\n",
      "Requirement already satisfied: docker<8,>=4.0.0 in c:\\users\\aniket\\anaconda3\\lib\\site-packages (from mlflow) (7.1.0)\n",
      "Requirement already satisfied: graphene<4 in c:\\users\\aniket\\anaconda3\\lib\\site-packages (from mlflow) (3.4.3)\n",
      "Requirement already satisfied: markdown<4,>=3.3 in c:\\users\\aniket\\anaconda3\\lib\\site-packages (from mlflow) (3.4.1)\n",
      "Requirement already satisfied: matplotlib<4 in c:\\users\\aniket\\anaconda3\\lib\\site-packages (from mlflow) (3.8.4)\n",
      "Requirement already satisfied: numpy<3 in c:\\users\\aniket\\anaconda3\\lib\\site-packages (from mlflow) (1.26.4)\n",
      "Requirement already satisfied: pandas<3 in c:\\users\\aniket\\anaconda3\\lib\\site-packages (from mlflow) (2.2.2)\n",
      "Requirement already satisfied: pyarrow<20,>=4.0.0 in c:\\users\\aniket\\anaconda3\\lib\\site-packages (from mlflow) (14.0.2)\n",
      "Requirement already satisfied: scikit-learn<2 in c:\\users\\aniket\\anaconda3\\lib\\site-packages (from mlflow) (1.4.2)\n",
      "Requirement already satisfied: scipy<2 in c:\\users\\aniket\\anaconda3\\lib\\site-packages (from mlflow) (1.13.1)\n",
      "Requirement already satisfied: sqlalchemy<3,>=1.4.0 in c:\\users\\aniket\\anaconda3\\lib\\site-packages (from mlflow) (2.0.30)\n",
      "Requirement already satisfied: waitress<4 in c:\\users\\aniket\\anaconda3\\lib\\site-packages (from mlflow) (3.0.2)\n",
      "Requirement already satisfied: cachetools<6,>=5.0.0 in c:\\users\\aniket\\anaconda3\\lib\\site-packages (from mlflow-skinny==2.21.2->mlflow) (5.3.3)\n",
      "Requirement already satisfied: click<9,>=7.0 in c:\\users\\aniket\\anaconda3\\lib\\site-packages (from mlflow-skinny==2.21.2->mlflow) (8.1.7)\n",
      "Requirement already satisfied: cloudpickle<4 in c:\\users\\aniket\\anaconda3\\lib\\site-packages (from mlflow-skinny==2.21.2->mlflow) (2.2.1)\n",
      "Requirement already satisfied: databricks-sdk<1,>=0.20.0 in c:\\users\\aniket\\anaconda3\\lib\\site-packages (from mlflow-skinny==2.21.2->mlflow) (0.49.0)\n",
      "Requirement already satisfied: fastapi<1 in c:\\users\\aniket\\anaconda3\\lib\\site-packages (from mlflow-skinny==2.21.2->mlflow) (0.115.12)\n",
      "Requirement already satisfied: gitpython<4,>=3.1.9 in c:\\users\\aniket\\anaconda3\\lib\\site-packages (from mlflow-skinny==2.21.2->mlflow) (3.1.37)\n",
      "Requirement already satisfied: importlib_metadata!=4.7.0,<9,>=3.7.0 in c:\\users\\aniket\\anaconda3\\lib\\site-packages (from mlflow-skinny==2.21.2->mlflow) (7.0.1)\n",
      "Requirement already satisfied: opentelemetry-api<3,>=1.9.0 in c:\\users\\aniket\\anaconda3\\lib\\site-packages (from mlflow-skinny==2.21.2->mlflow) (1.31.1)\n",
      "Requirement already satisfied: opentelemetry-sdk<3,>=1.9.0 in c:\\users\\aniket\\anaconda3\\lib\\site-packages (from mlflow-skinny==2.21.2->mlflow) (1.31.1)\n",
      "Requirement already satisfied: packaging<25 in c:\\users\\aniket\\anaconda3\\lib\\site-packages (from mlflow-skinny==2.21.2->mlflow) (23.2)\n",
      "Requirement already satisfied: protobuf<6,>=3.12.0 in c:\\users\\aniket\\anaconda3\\lib\\site-packages (from mlflow-skinny==2.21.2->mlflow) (3.20.3)\n",
      "Requirement already satisfied: pydantic<3,>=1.10.8 in c:\\users\\aniket\\anaconda3\\lib\\site-packages (from mlflow-skinny==2.21.2->mlflow) (2.5.3)\n",
      "Requirement already satisfied: pyyaml<7,>=5.1 in c:\\users\\aniket\\anaconda3\\lib\\site-packages (from mlflow-skinny==2.21.2->mlflow) (6.0.1)\n",
      "Requirement already satisfied: requests<3,>=2.17.3 in c:\\users\\aniket\\anaconda3\\lib\\site-packages (from mlflow-skinny==2.21.2->mlflow) (2.32.2)\n",
      "Requirement already satisfied: sqlparse<1,>=0.4.0 in c:\\users\\aniket\\anaconda3\\lib\\site-packages (from mlflow-skinny==2.21.2->mlflow) (0.5.3)\n",
      "Requirement already satisfied: typing-extensions<5,>=4.0.0 in c:\\users\\aniket\\anaconda3\\lib\\site-packages (from mlflow-skinny==2.21.2->mlflow) (4.13.0)\n",
      "Requirement already satisfied: uvicorn<1 in c:\\users\\aniket\\anaconda3\\lib\\site-packages (from mlflow-skinny==2.21.2->mlflow) (0.34.0)\n",
      "Requirement already satisfied: botocore<1.38.0,>=1.37.25 in c:\\users\\aniket\\anaconda3\\lib\\site-packages (from boto3) (1.37.25)\n",
      "Requirement already satisfied: jmespath<2.0.0,>=0.7.1 in c:\\users\\aniket\\anaconda3\\lib\\site-packages (from boto3) (1.0.1)\n",
      "Requirement already satisfied: s3transfer<0.12.0,>=0.11.0 in c:\\users\\aniket\\anaconda3\\lib\\site-packages (from boto3) (0.11.4)\n",
      "Requirement already satisfied: docutils<0.17,>=0.10 in c:\\users\\aniket\\anaconda3\\lib\\site-packages (from awscli) (0.16)\n",
      "Requirement already satisfied: colorama<0.4.7,>=0.2.5 in c:\\users\\aniket\\anaconda3\\lib\\site-packages (from awscli) (0.4.6)\n",
      "Requirement already satisfied: rsa<4.8,>=3.1.2 in c:\\users\\aniket\\anaconda3\\lib\\site-packages (from awscli) (4.7.2)\n",
      "Requirement already satisfied: python-dateutil<3.0.0,>=2.1 in c:\\users\\aniket\\anaconda3\\lib\\site-packages (from botocore<1.38.0,>=1.37.25->boto3) (2.9.0.post0)\n",
      "Requirement already satisfied: urllib3!=2.2.0,<3,>=1.25.4 in c:\\users\\aniket\\anaconda3\\lib\\site-packages (from botocore<1.38.0,>=1.37.25->boto3) (2.2.2)\n",
      "Collecting colorlog (from optuna)\n",
      "  Downloading colorlog-6.9.0-py3-none-any.whl.metadata (10 kB)\n",
      "Requirement already satisfied: tqdm in c:\\users\\aniket\\anaconda3\\lib\\site-packages (from optuna) (4.66.4)\n",
      "Requirement already satisfied: joblib>=1.1.1 in c:\\users\\aniket\\anaconda3\\lib\\site-packages (from imbalanced-learn) (1.4.2)\n",
      "Requirement already satisfied: threadpoolctl>=2.0.0 in c:\\users\\aniket\\anaconda3\\lib\\site-packages (from imbalanced-learn) (2.2.0)\n",
      "Requirement already satisfied: Mako in c:\\users\\aniket\\anaconda3\\lib\\site-packages (from alembic!=1.10.0,<2->mlflow) (1.3.9)\n",
      "Requirement already satisfied: pywin32>=304 in c:\\users\\aniket\\anaconda3\\lib\\site-packages (from docker<8,>=4.0.0->mlflow) (305.1)\n",
      "Requirement already satisfied: Werkzeug>=3.0.0 in c:\\users\\aniket\\anaconda3\\lib\\site-packages (from Flask<4->mlflow) (3.0.3)\n",
      "Requirement already satisfied: itsdangerous>=2.1.2 in c:\\users\\aniket\\anaconda3\\lib\\site-packages (from Flask<4->mlflow) (2.2.0)\n",
      "Requirement already satisfied: blinker>=1.6.2 in c:\\users\\aniket\\anaconda3\\lib\\site-packages (from Flask<4->mlflow) (1.6.2)\n",
      "Requirement already satisfied: graphql-core<3.3,>=3.1 in c:\\users\\aniket\\anaconda3\\lib\\site-packages (from graphene<4->mlflow) (3.2.6)\n",
      "Requirement already satisfied: graphql-relay<3.3,>=3.1 in c:\\users\\aniket\\anaconda3\\lib\\site-packages (from graphene<4->mlflow) (3.2.0)\n",
      "Requirement already satisfied: MarkupSafe>=2.0 in c:\\users\\aniket\\anaconda3\\lib\\site-packages (from Jinja2<4,>=3.0->mlflow) (2.1.3)\n",
      "Requirement already satisfied: contourpy>=1.0.1 in c:\\users\\aniket\\anaconda3\\lib\\site-packages (from matplotlib<4->mlflow) (1.2.0)\n",
      "Requirement already satisfied: cycler>=0.10 in c:\\users\\aniket\\anaconda3\\lib\\site-packages (from matplotlib<4->mlflow) (0.11.0)\n",
      "Requirement already satisfied: fonttools>=4.22.0 in c:\\users\\aniket\\anaconda3\\lib\\site-packages (from matplotlib<4->mlflow) (4.51.0)\n",
      "Requirement already satisfied: kiwisolver>=1.3.1 in c:\\users\\aniket\\anaconda3\\lib\\site-packages (from matplotlib<4->mlflow) (1.4.4)\n",
      "Requirement already satisfied: pillow>=8 in c:\\users\\aniket\\anaconda3\\lib\\site-packages (from matplotlib<4->mlflow) (10.3.0)\n",
      "Requirement already satisfied: pyparsing>=2.3.1 in c:\\users\\aniket\\anaconda3\\lib\\site-packages (from matplotlib<4->mlflow) (3.0.9)\n",
      "Requirement already satisfied: pytz>=2020.1 in c:\\users\\aniket\\anaconda3\\lib\\site-packages (from pandas<3->mlflow) (2024.1)\n",
      "Requirement already satisfied: tzdata>=2022.7 in c:\\users\\aniket\\anaconda3\\lib\\site-packages (from pandas<3->mlflow) (2023.3)\n",
      "Requirement already satisfied: pyasn1>=0.1.3 in c:\\users\\aniket\\anaconda3\\lib\\site-packages (from rsa<4.8,>=3.1.2->awscli) (0.4.8)\n",
      "Requirement already satisfied: greenlet!=0.4.17 in c:\\users\\aniket\\anaconda3\\lib\\site-packages (from sqlalchemy<3,>=1.4.0->mlflow) (3.0.1)\n",
      "Requirement already satisfied: google-auth~=2.0 in c:\\users\\aniket\\anaconda3\\lib\\site-packages (from databricks-sdk<1,>=0.20.0->mlflow-skinny==2.21.2->mlflow) (2.38.0)\n",
      "Requirement already satisfied: starlette<0.47.0,>=0.40.0 in c:\\users\\aniket\\anaconda3\\lib\\site-packages (from fastapi<1->mlflow-skinny==2.21.2->mlflow) (0.46.1)\n",
      "Requirement already satisfied: gitdb<5,>=4.0.1 in c:\\users\\aniket\\anaconda3\\lib\\site-packages (from gitpython<4,>=3.1.9->mlflow-skinny==2.21.2->mlflow) (4.0.7)\n",
      "Requirement already satisfied: zipp>=0.5 in c:\\users\\aniket\\anaconda3\\lib\\site-packages (from importlib_metadata!=4.7.0,<9,>=3.7.0->mlflow-skinny==2.21.2->mlflow) (3.17.0)\n",
      "Requirement already satisfied: deprecated>=1.2.6 in c:\\users\\aniket\\anaconda3\\lib\\site-packages (from opentelemetry-api<3,>=1.9.0->mlflow-skinny==2.21.2->mlflow) (1.2.18)\n",
      "Requirement already satisfied: opentelemetry-semantic-conventions==0.52b1 in c:\\users\\aniket\\anaconda3\\lib\\site-packages (from opentelemetry-sdk<3,>=1.9.0->mlflow-skinny==2.21.2->mlflow) (0.52b1)\n",
      "Requirement already satisfied: annotated-types>=0.4.0 in c:\\users\\aniket\\anaconda3\\lib\\site-packages (from pydantic<3,>=1.10.8->mlflow-skinny==2.21.2->mlflow) (0.6.0)\n",
      "Requirement already satisfied: pydantic-core==2.14.6 in c:\\users\\aniket\\anaconda3\\lib\\site-packages (from pydantic<3,>=1.10.8->mlflow-skinny==2.21.2->mlflow) (2.14.6)\n",
      "Requirement already satisfied: six>=1.5 in c:\\users\\aniket\\anaconda3\\lib\\site-packages (from python-dateutil<3.0.0,>=2.1->botocore<1.38.0,>=1.37.25->boto3) (1.16.0)\n",
      "Requirement already satisfied: charset-normalizer<4,>=2 in c:\\users\\aniket\\anaconda3\\lib\\site-packages (from requests<3,>=2.17.3->mlflow-skinny==2.21.2->mlflow) (2.0.4)\n",
      "Requirement already satisfied: idna<4,>=2.5 in c:\\users\\aniket\\anaconda3\\lib\\site-packages (from requests<3,>=2.17.3->mlflow-skinny==2.21.2->mlflow) (3.7)\n",
      "Requirement already satisfied: certifi>=2017.4.17 in c:\\users\\aniket\\anaconda3\\lib\\site-packages (from requests<3,>=2.17.3->mlflow-skinny==2.21.2->mlflow) (2024.8.30)\n",
      "Requirement already satisfied: h11>=0.8 in c:\\users\\aniket\\anaconda3\\lib\\site-packages (from uvicorn<1->mlflow-skinny==2.21.2->mlflow) (0.14.0)\n",
      "Requirement already satisfied: wrapt<2,>=1.10 in c:\\users\\aniket\\anaconda3\\lib\\site-packages (from deprecated>=1.2.6->opentelemetry-api<3,>=1.9.0->mlflow-skinny==2.21.2->mlflow) (1.14.1)\n",
      "Requirement already satisfied: smmap<5,>=3.0.1 in c:\\users\\aniket\\anaconda3\\lib\\site-packages (from gitdb<5,>=4.0.1->gitpython<4,>=3.1.9->mlflow-skinny==2.21.2->mlflow) (4.0.0)\n",
      "Requirement already satisfied: pyasn1-modules>=0.2.1 in c:\\users\\aniket\\anaconda3\\lib\\site-packages (from google-auth~=2.0->databricks-sdk<1,>=0.20.0->mlflow-skinny==2.21.2->mlflow) (0.2.8)\n",
      "Requirement already satisfied: anyio<5,>=3.6.2 in c:\\users\\aniket\\anaconda3\\lib\\site-packages (from starlette<0.47.0,>=0.40.0->fastapi<1->mlflow-skinny==2.21.2->mlflow) (4.2.0)\n",
      "Requirement already satisfied: sniffio>=1.1 in c:\\users\\aniket\\anaconda3\\lib\\site-packages (from anyio<5,>=3.6.2->starlette<0.47.0,>=0.40.0->fastapi<1->mlflow-skinny==2.21.2->mlflow) (1.3.0)\n",
      "Downloading optuna-4.2.1-py3-none-any.whl (383 kB)\n",
      "   ---------------------------------------- 0.0/383.6 kB ? eta -:--:--\n",
      "   ----------- ---------------------------- 112.6/383.6 kB 3.3 MB/s eta 0:00:01\n",
      "   ---------------------------------------- 383.6/383.6 kB 4.8 MB/s eta 0:00:00\n",
      "Downloading lightgbm-4.6.0-py3-none-win_amd64.whl (1.5 MB)\n",
      "   ---------------------------------------- 0.0/1.5 MB ? eta -:--:--\n",
      "   -------- ------------------------------- 0.3/1.5 MB 6.1 MB/s eta 0:00:01\n",
      "   -------------- ------------------------- 0.5/1.5 MB 5.4 MB/s eta 0:00:01\n",
      "   ------------------ --------------------- 0.7/1.5 MB 4.7 MB/s eta 0:00:01\n",
      "   --------------------- ------------------ 0.8/1.5 MB 4.0 MB/s eta 0:00:01\n",
      "   -------------------------- ------------- 1.0/1.5 MB 4.0 MB/s eta 0:00:01\n",
      "   --------------------------------- ------ 1.2/1.5 MB 4.2 MB/s eta 0:00:01\n",
      "   ------------------------------------- -- 1.4/1.5 MB 4.1 MB/s eta 0:00:01\n",
      "   -------------------------------------- - 1.4/1.5 MB 4.1 MB/s eta 0:00:01\n",
      "   ---------------------------------------- 1.5/1.5 MB 3.5 MB/s eta 0:00:00\n",
      "Downloading colorlog-6.9.0-py3-none-any.whl (11 kB)\n",
      "Installing collected packages: colorlog, lightgbm, optuna\n",
      "Successfully installed colorlog-6.9.0 lightgbm-4.6.0 optuna-4.2.1\n"
     ]
    }
   ],
   "source": [
    "!pip install mlflow boto3 awscli optuna xgboost lightgbm imbalanced-learn"
   ]
  },
  {
   "cell_type": "code",
   "execution_count": 1,
   "id": "1f4f94e5",
   "metadata": {},
   "outputs": [],
   "source": [
    "# Step 2: Set up mlflow tracking server\n",
    "import mlflow\n",
    "\n",
    "mlflow.set_tracking_uri(\"http://ec2-13-61-19-60.eu-north-1.compute.amazonaws.com:5000/\")"
   ]
  },
  {
   "cell_type": "code",
   "execution_count": 2,
   "id": "977855a9",
   "metadata": {},
   "outputs": [
    {
     "name": "stderr",
     "output_type": "stream",
     "text": [
      "2025/04/09 14:50:03 INFO mlflow.tracking.fluent: Experiment with name 'Exp 5: ML Algos with HP Tuning' does not exist. Creating a new experiment.\n"
     ]
    },
    {
     "data": {
      "text/plain": [
       "<Experiment: artifact_location='s3://yt-plugin-bucket/201394593778390276', creation_time=1744190402646, experiment_id='201394593778390276', last_update_time=1744190402646, lifecycle_stage='active', name='Exp 5: ML Algos with HP Tuning', tags={}>"
      ]
     },
     "execution_count": 2,
     "metadata": {},
     "output_type": "execute_result"
    }
   ],
   "source": [
    "# Set or create an experiment\n",
    "mlflow.set_experiment(\"Exp 5: ML Algos with HP Tuning\")"
   ]
  },
  {
   "cell_type": "code",
   "execution_count": 3,
   "id": "f05a5bae",
   "metadata": {},
   "outputs": [],
   "source": [
    "import optuna \n",
    "import mlflow \n",
    "import mlflow.sklearn\n",
    "from sklearn.model_selection import train_test_split\n",
    "from sklearn.metrics import accuracy_score, classification_report\n",
    "from sklearn.feature_extraction.text import TfidfVectorizer\n",
    "from sklearn.linear_model import LogisticRegression\n",
    "from sklearn.svm import SVC\n",
    "from xgboost import XGBClassifier\n",
    "from lightgbm import LGBMClassifier\n",
    "from sklearn.neighbors import KNeighborsClassifier\n",
    "from sklearn.naive_bayes import MultinomialNB\n",
    "from sklearn.ensemble import RandomForestClassifier\n",
    "from imblearn.over_sampling import SMOTE\n",
    "import matplotlib.pyplot as plt\n",
    "import seaborn as sns\n",
    "import pandas as pd\n"
   ]
  },
  {
   "cell_type": "code",
   "execution_count": null,
   "id": "67200a49",
   "metadata": {},
   "outputs": [
    {
     "data": {
      "text/plain": [
       "(36662, 2)"
      ]
     },
     "execution_count": 4,
     "metadata": {},
     "output_type": "execute_result"
    }
   ],
   "source": [
    "df = pd.read_csv('../data/reddit_preprocessing.csv').dropna()\n",
    "df.shape"
   ]
  },
  {
   "cell_type": "code",
   "execution_count": 5,
   "id": "60959e41",
   "metadata": {},
   "outputs": [
    {
     "name": "stderr",
     "output_type": "stream",
     "text": [
      "[I 2025-04-09 14:50:14,041] A new study created in memory with name: no-name-a4f9c614-8c48-41bb-bda5-61c9c25cd9fa\n",
      "[I 2025-04-09 14:50:25,727] Trial 0 finished with value: 0.5548888585844811 and parameters: {'n_estimators': 79, 'learning_rate': 0.0015793564055546813, 'max_depth': 6}. Best is trial 0 with value: 0.5548888585844811.\n",
      "[I 2025-04-09 14:51:11,928] Trial 1 finished with value: 0.579980908223101 and parameters: {'n_estimators': 246, 'learning_rate': 0.00012520666307915665, 'max_depth': 7}. Best is trial 1 with value: 0.579980908223101.\n",
      "[I 2025-04-09 14:51:49,527] Trial 2 finished with value: 0.6772126005727533 and parameters: {'n_estimators': 203, 'learning_rate': 0.015592296623565038, 'max_depth': 7}. Best is trial 2 with value: 0.6772126005727533.\n",
      "[I 2025-04-09 14:52:19,103] Trial 3 finished with value: 0.5861175507977635 and parameters: {'n_estimators': 115, 'learning_rate': 0.00024343509640108516, 'max_depth': 8}. Best is trial 2 with value: 0.6772126005727533.\n",
      "[I 2025-04-09 14:53:32,573] Trial 4 finished with value: 0.7751261420973681 and parameters: {'n_estimators': 276, 'learning_rate': 0.050670954047105046, 'max_depth': 10}. Best is trial 4 with value: 0.7751261420973681.\n",
      "[I 2025-04-09 14:54:06,199] Trial 5 finished with value: 0.5962089185872085 and parameters: {'n_estimators': 239, 'learning_rate': 0.004117419145897678, 'max_depth': 5}. Best is trial 4 with value: 0.7751261420973681.\n",
      "[I 2025-04-09 14:54:53,397] Trial 6 finished with value: 0.5986635756170735 and parameters: {'n_estimators': 239, 'learning_rate': 0.0035427962601683265, 'max_depth': 6}. Best is trial 4 with value: 0.7751261420973681.\n",
      "[I 2025-04-09 14:55:56,546] Trial 7 finished with value: 0.5861175507977635 and parameters: {'n_estimators': 178, 'learning_rate': 0.0001532157725961204, 'max_depth': 8}. Best is trial 4 with value: 0.7751261420973681.\n",
      "[I 2025-04-09 14:56:15,313] Trial 8 finished with value: 0.5401609164052912 and parameters: {'n_estimators': 131, 'learning_rate': 0.0001568611027426438, 'max_depth': 5}. Best is trial 4 with value: 0.7751261420973681.\n",
      "[I 2025-04-09 14:57:39,270] Trial 9 finished with value: 0.6622119187235783 and parameters: {'n_estimators': 226, 'learning_rate': 0.008522066728430186, 'max_depth': 8}. Best is trial 4 with value: 0.7751261420973681.\n",
      "[I 2025-04-09 14:58:48,410] Trial 10 finished with value: 0.7856266193917906 and parameters: {'n_estimators': 295, 'learning_rate': 0.08848210132830653, 'max_depth': 10}. Best is trial 10 with value: 0.7856266193917906.\n",
      "[I 2025-04-09 15:00:04,797] Trial 11 finished with value: 0.783035592526933 and parameters: {'n_estimators': 295, 'learning_rate': 0.06991398364193527, 'max_depth': 10}. Best is trial 10 with value: 0.7856266193917906.\n",
      "[I 2025-04-09 15:01:01,837] Trial 12 finished with value: 0.787126687576708 and parameters: {'n_estimators': 299, 'learning_rate': 0.0990622011843427, 'max_depth': 10}. Best is trial 12 with value: 0.787126687576708.\n",
      "[I 2025-04-09 15:01:59,914] Trial 13 finished with value: 0.7858993590617755 and parameters: {'n_estimators': 300, 'learning_rate': 0.09952294459055623, 'max_depth': 10}. Best is trial 12 with value: 0.787126687576708.\n",
      "[I 2025-04-09 15:02:09,585] Trial 14 finished with value: 0.6669848629483158 and parameters: {'n_estimators': 268, 'learning_rate': 0.025166507614420925, 'max_depth': 3}. Best is trial 12 with value: 0.787126687576708.\n",
      "[I 2025-04-09 15:03:05,571] Trial 15 finished with value: 0.6166643938360835 and parameters: {'n_estimators': 189, 'learning_rate': 0.0009564069735446441, 'max_depth': 9}. Best is trial 12 with value: 0.787126687576708.\n",
      "[I 2025-04-09 15:03:44,913] Trial 16 finished with value: 0.7103504704759307 and parameters: {'n_estimators': 145, 'learning_rate': 0.03093103723811132, 'max_depth': 9}. Best is trial 12 with value: 0.787126687576708.\n",
      "[I 2025-04-09 15:05:02,680] Trial 17 finished with value: 0.6873039683621983 and parameters: {'n_estimators': 267, 'learning_rate': 0.010705952708443192, 'max_depth': 9}. Best is trial 12 with value: 0.787126687576708.\n",
      "[I 2025-04-09 15:05:23,569] Trial 18 finished with value: 0.6763943815627983 and parameters: {'n_estimators': 53, 'learning_rate': 0.03607013385136949, 'max_depth': 10}. Best is trial 12 with value: 0.787126687576708.\n",
      "[I 2025-04-09 15:05:31,380] Trial 19 finished with value: 0.7368062184644757 and parameters: {'n_estimators': 219, 'learning_rate': 0.09458483417380656, 'max_depth': 3}. Best is trial 12 with value: 0.787126687576708.\n",
      "[I 2025-04-09 15:07:01,615] Trial 20 finished with value: 0.616528024001091 and parameters: {'n_estimators': 300, 'learning_rate': 0.0005923788787134126, 'max_depth': 9}. Best is trial 12 with value: 0.787126687576708.\n",
      "[I 2025-04-09 15:07:59,137] Trial 21 finished with value: 0.785217509886813 and parameters: {'n_estimators': 282, 'learning_rate': 0.08288664133093558, 'max_depth': 10}. Best is trial 12 with value: 0.787126687576708.\n",
      "[I 2025-04-09 15:09:22,144] Trial 22 finished with value: 0.7238510841401882 and parameters: {'n_estimators': 260, 'learning_rate': 0.01937074966289992, 'max_depth': 10}. Best is trial 12 with value: 0.787126687576708.\n",
      "[I 2025-04-09 15:10:11,103] Trial 23 finished with value: 0.7878085367516705 and parameters: {'n_estimators': 300, 'learning_rate': 0.09795790518745452, 'max_depth': 9}. Best is trial 23 with value: 0.7878085367516705.\n",
      "[I 2025-04-09 15:11:05,454] Trial 24 finished with value: 0.760125460248193 and parameters: {'n_estimators': 255, 'learning_rate': 0.04032231609054837, 'max_depth': 9}. Best is trial 23 with value: 0.7878085367516705.\n",
      "[I 2025-04-09 15:12:13,271] Trial 25 finished with value: 0.6608482203736533 and parameters: {'n_estimators': 282, 'learning_rate': 0.006366027642275362, 'max_depth': 8}. Best is trial 23 with value: 0.7878085367516705.\n",
      "[I 2025-04-09 15:12:50,117] Trial 26 finished with value: 0.7376244374744306 and parameters: {'n_estimators': 156, 'learning_rate': 0.04708135938175971, 'max_depth': 9}. Best is trial 23 with value: 0.7878085367516705.\n",
      "[I 2025-04-09 15:14:27,234] Trial 27 finished with value: 0.7178508114005182 and parameters: {'n_estimators': 299, 'learning_rate': 0.014397574035406103, 'max_depth': 10}. Best is trial 23 with value: 0.7878085367516705.\n",
      "[I 2025-04-09 15:15:02,027] Trial 28 finished with value: 0.7681712805127506 and parameters: {'n_estimators': 221, 'learning_rate': 0.06449915846060626, 'max_depth': 8}. Best is trial 23 with value: 0.7878085367516705.\n",
      "[I 2025-04-09 15:15:52,661] Trial 29 finished with value: 0.5945724805672985 and parameters: {'n_estimators': 281, 'learning_rate': 0.001508930179978672, 'max_depth': 7}. Best is trial 23 with value: 0.7878085367516705.\n",
      "2025/04/09 15:16:57 WARNING mlflow.models.model: Model logged without a signature and input example. Please set `input_example` parameter when logging the model to auto infer the model signature.\n"
     ]
    },
    {
     "name": "stdout",
     "output_type": "stream",
     "text": [
      "🏃 View run XGBoost_SMOTE_TFIDF_Trigrams at: http://ec2-13-61-19-60.eu-north-1.compute.amazonaws.com:5000/#/experiments/201394593778390276/runs/14bc69e5b53945e792822c17b957c83b\n",
      "🧪 View experiment at: http://ec2-13-61-19-60.eu-north-1.compute.amazonaws.com:5000/#/experiments/201394593778390276\n"
     ]
    }
   ],
   "source": [
    "# Step 1: Remap the class labesl from [-1, 0, 1] to [2, 0, 1]\n",
    "df['category'] = df['category'].map({-1:2, 0:0, 1:1})\n",
    "\n",
    "# Step 2: Remove rows where the target labels (category) are NaN\n",
    "df = df.dropna(subset=['category'])\n",
    "\n",
    "ngram_range = (1, 3) # Trigram setting\n",
    "max_features = 1000 # Set max_featues to 1000 for TF-IDF\n",
    "\n",
    "# Step 4: Train-test split before vectorization and resampling\n",
    "X_train, X_test, y_train, y_test = train_test_split(df['clean_comment'], df['category'], test_size=0.2, random_state=42, stratify=df['category'])\n",
    "\n",
    "# Step 2: Vectorization using TF-IDF, fit on training data only\n",
    "vectorizer = TfidfVectorizer(ngram_range=ngram_range, max_features=max_features)\n",
    "X_train_vec = vectorizer.fit_transform(X_train)  # Fit on training data\n",
    "X_test_vec = vectorizer.transform(X_test)  # Transform test data\n",
    "\n",
    "smote = SMOTE(random_state=42)\n",
    "X_train_vec, y_train = smote.fit_resample(X_train_vec, y_train)\n",
    "\n",
    "# Function to log results in MLflow\n",
    "def log_mlflow(model_name, model, X_train, X_test, y_train, y_test):\n",
    "    with mlflow.start_run():\n",
    "        # Log model type\n",
    "        mlflow.set_tag(\"mlflow.runName\", f\"{model_name}_SMOTE_TFIDF_Trigrams\")\n",
    "        mlflow.set_tag(\"experiment_type\", \"algorithm_comparison\")\n",
    "\n",
    "        # Log algorithm name as a parameter\n",
    "        mlflow.log_param(\"algo_name\", model_name)\n",
    "\n",
    "        # Train model\n",
    "        model.fit(X_train, y_train)\n",
    "        y_pred = model.predict(X_test)\n",
    "\n",
    "        # Log accuracy\n",
    "        accuracy = accuracy_score(y_test, y_pred)\n",
    "        mlflow.log_metric(\"accuracy\", accuracy)\n",
    "\n",
    "        # Log classification report\n",
    "        classification_rep = classification_report(y_test, y_pred, output_dict=True)\n",
    "        for label, metrics in classification_rep.items():\n",
    "            if isinstance(metrics, dict):\n",
    "                for metric, value in metrics.items():\n",
    "                    mlflow.log_metric(f\"{label}_{metric}\", value)\n",
    "\n",
    "        # Log the model\n",
    "        mlflow.sklearn.log_model(model, f\"{model_name}_model\")\n",
    "\n",
    "# Step 6: Optuna objective function for XGBoost\n",
    "def objective_xgboost(trial):\n",
    "    n_estimators = trial.suggest_int('n_estimators', 50, 300)\n",
    "    learning_rate = trial.suggest_float('learning_rate', 1e-4, 1e-1, log=True)\n",
    "    max_depth = trial.suggest_int('max_depth', 3, 10)\n",
    "\n",
    "    model = XGBClassifier(n_estimators=n_estimators, learning_rate=learning_rate, max_depth=max_depth, random_state=42)\n",
    "    return accuracy_score(y_test, model.fit(X_train_vec, y_train).predict(X_test_vec))\n",
    "\n",
    "# Step 7: Run Optuna for XGBoost, log the best model only\n",
    "def run_optuna_experiment():\n",
    "    study = optuna.create_study(direction='maximize')\n",
    "    study.optimize(objective_xgboost, n_trials=30)\n",
    "\n",
    "    # Get the best parameters and log only the best model\n",
    "    best_params = study.best_params\n",
    "    best_model = XGBClassifier(n_estimators=best_params['n_estimators'], learning_rate=best_params['learning_rate'], max_depth=best_params['max_depth'], random_state=42)\n",
    "\n",
    "    # Log the best model with MLFlow, passing the algo_name as \"XGBoost\"\n",
    "    log_mlflow('XGBoost', best_model, X_train_vec, X_test_vec, y_train, y_test)\n",
    "\n",
    "# Run the experiment for XGBoost for XGBoost\n",
    "run_optuna_experiment()\n"
   ]
  },
  {
   "cell_type": "code",
   "execution_count": null,
   "id": "60e82ed0",
   "metadata": {},
   "outputs": [],
   "source": []
  }
 ],
 "metadata": {
  "kernelspec": {
   "display_name": "base",
   "language": "python",
   "name": "python3"
  },
  "language_info": {
   "codemirror_mode": {
    "name": "ipython",
    "version": 3
   },
   "file_extension": ".py",
   "mimetype": "text/x-python",
   "name": "python",
   "nbconvert_exporter": "python",
   "pygments_lexer": "ipython3",
   "version": "3.12.4"
  }
 },
 "nbformat": 4,
 "nbformat_minor": 5
}
