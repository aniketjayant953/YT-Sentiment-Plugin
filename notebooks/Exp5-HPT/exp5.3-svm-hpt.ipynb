{
 "cells": [
  {
   "cell_type": "code",
   "execution_count": 6,
   "id": "d8fcd737",
   "metadata": {},
   "outputs": [],
   "source": [
    "# Step 2: Set up mlflow tracking server\n",
    "import mlflow\n",
    "\n",
    "mlflow.set_tracking_uri(\"http://ec2-13-61-19-60.eu-north-1.compute.amazonaws.com:5000/\")"
   ]
  },
  {
   "cell_type": "code",
   "execution_count": 7,
   "id": "3b5d8588",
   "metadata": {},
   "outputs": [
    {
     "data": {
      "text/plain": [
       "<Experiment: artifact_location='s3://yt-plugin-bucket/201394593778390276', creation_time=1744190402646, experiment_id='201394593778390276', last_update_time=1744190402646, lifecycle_stage='active', name='Exp 5: ML Algos with HP Tuning', tags={}>"
      ]
     },
     "execution_count": 7,
     "metadata": {},
     "output_type": "execute_result"
    }
   ],
   "source": [
    "# Set or create an experiment\n",
    "mlflow.set_experiment(\"Exp 5: ML Algos with HP Tuning\")"
   ]
  },
  {
   "cell_type": "code",
   "execution_count": 8,
   "id": "ce243c7b",
   "metadata": {},
   "outputs": [],
   "source": [
    "import pandas as pd\n",
    "from sklearn.feature_extraction.text import TfidfVectorizer\n",
    "from sklearn.model_selection import train_test_split\n",
    "from sklearn.metrics import accuracy_score, classification_report\n",
    "from sklearn.svm import SVC\n",
    "from imblearn.over_sampling import SMOTE\n",
    "import mlflow\n",
    "import mlflow.sklearn\n",
    "import optuna"
   ]
  },
  {
   "cell_type": "code",
   "execution_count": 9,
   "id": "841f8c92",
   "metadata": {},
   "outputs": [
    {
     "data": {
      "text/plain": [
       "(36662, 2)"
      ]
     },
     "execution_count": 9,
     "metadata": {},
     "output_type": "execute_result"
    }
   ],
   "source": [
    "df = pd.read_csv('../data/reddit_preprocessing.csv').dropna()\n",
    "df.shape"
   ]
  },
  {
   "cell_type": "code",
   "execution_count": null,
   "id": "98e35796",
   "metadata": {},
   "outputs": [
    {
     "name": "stderr",
     "output_type": "stream",
     "text": [
      "[I 2025-04-09 15:35:06,599] A new study created in memory with name: no-name-4b0ab0c0-fe1f-4e63-a30a-775ba1ebdaa3\n",
      "[I 2025-04-09 15:37:23,411] Trial 0 finished with value: 0.45867681251321074 and parameters: {'C': 9.276184602543388e-33, 'kernel': 'linear'}. Best is trial 0 with value: 0.45867681251321074.\n",
      "[I 2025-04-09 15:40:19,193] Trial 1 finished with value: 0.45867681251321074 and parameters: {'C': 2.3456004486022603e-40, 'kernel': 'linear'}. Best is trial 0 with value: 0.45867681251321074.\n",
      "[I 2025-04-09 15:42:37,468] Trial 2 finished with value: 0.3478123018389347 and parameters: {'C': 2.305308839033439e-39, 'kernel': 'rbf'}. Best is trial 0 with value: 0.45867681251321074.\n",
      "[I 2025-04-09 15:44:46,704] Trial 3 finished with value: 0.6367575565419573 and parameters: {'C': 2.1402446027158268e-20, 'kernel': 'poly'}. Best is trial 3 with value: 0.6367575565419573.\n",
      "[I 2025-04-09 15:46:57,724] Trial 4 finished with value: 0.45867681251321074 and parameters: {'C': 3.80370433566512e-19, 'kernel': 'linear'}. Best is trial 3 with value: 0.6367575565419573.\n",
      "[I 2025-04-09 15:49:14,065] Trial 5 finished with value: 0.4315155358275206 and parameters: {'C': 4.3817021792978674e-05, 'kernel': 'linear'}. Best is trial 3 with value: 0.6367575565419573.\n",
      "[I 2025-04-09 15:51:23,647] Trial 6 finished with value: 0.45867681251321074 and parameters: {'C': 9.915483245935767e-26, 'kernel': 'linear'}. Best is trial 3 with value: 0.6367575565419573.\n",
      "[I 2025-04-09 15:53:31,809] Trial 7 finished with value: 0.6367575565419573 and parameters: {'C': 3.720738672942871e-26, 'kernel': 'poly'}. Best is trial 3 with value: 0.6367575565419573.\n",
      "[I 2025-04-09 15:55:41,872] Trial 8 finished with value: 0.6367575565419573 and parameters: {'C': 7.062225320518825e-23, 'kernel': 'poly'}. Best is trial 3 with value: 0.6367575565419573.\n",
      "[I 2025-04-09 15:58:18,352] Trial 9 finished with value: 0.40107799619530754 and parameters: {'C': 1.8320061708638546e-09, 'kernel': 'rbf'}. Best is trial 3 with value: 0.6367575565419573.\n",
      "[I 2025-04-09 16:01:12,592] Trial 10 finished with value: 0.36916085394208414 and parameters: {'C': 1.0628023204805078e-13, 'kernel': 'poly'}. Best is trial 3 with value: 0.6367575565419573.\n",
      "[I 2025-04-09 16:03:44,935] Trial 11 finished with value: 0.6367575565419573 and parameters: {'C': 1.7241614363625778e-29, 'kernel': 'poly'}. Best is trial 3 with value: 0.6367575565419573.\n",
      "[I 2025-04-09 16:06:55,198] Trial 12 finished with value: 0.6367575565419573 and parameters: {'C': 7.576231656241597e-18, 'kernel': 'poly'}. Best is trial 3 with value: 0.6367575565419573.\n",
      "[I 2025-04-09 16:10:34,136] Trial 13 finished with value: 0.6367575565419573 and parameters: {'C': 4.12518052938113e-33, 'kernel': 'poly'}. Best is trial 3 with value: 0.6367575565419573.\n",
      "[I 2025-04-09 16:16:53,981] Trial 14 finished with value: 0.714859437751004 and parameters: {'C': 0.8715298670950699, 'kernel': 'poly'}. Best is trial 14 with value: 0.714859437751004.\n",
      "[I 2025-04-09 16:23:36,422] Trial 15 finished with value: 0.6989008666243923 and parameters: {'C': 4.561578924661949, 'kernel': 'poly'}. Best is trial 14 with value: 0.714859437751004.\n",
      "[I 2025-04-09 16:26:54,264] Trial 16 finished with value: 0.8221306277742549 and parameters: {'C': 1.0382588370190093, 'kernel': 'rbf'}. Best is trial 16 with value: 0.8221306277742549.\n",
      "[I 2025-04-09 16:29:12,251] Trial 17 finished with value: 0.5997674910166984 and parameters: {'C': 0.03737253710094554, 'kernel': 'rbf'}. Best is trial 16 with value: 0.8221306277742549.\n",
      "[I 2025-04-09 16:31:44,404] Trial 18 finished with value: 0.40107799619530754 and parameters: {'C': 6.465097566763468e-07, 'kernel': 'rbf'}. Best is trial 16 with value: 0.8221306277742549.\n",
      "[I 2025-04-09 16:34:17,868] Trial 19 finished with value: 0.40107799619530754 and parameters: {'C': 1.2433075498719086e-11, 'kernel': 'rbf'}. Best is trial 16 with value: 0.8221306277742549.\n",
      "[I 2025-04-09 16:36:56,085] Trial 20 finished with value: 0.40107799619530754 and parameters: {'C': 3.615113832253986e-06, 'kernel': 'rbf'}. Best is trial 16 with value: 0.8221306277742549.\n",
      "[I 2025-04-09 16:49:28,385] Trial 21 finished with value: 0.70714436694145 and parameters: {'C': 1.1796610264674743, 'kernel': 'poly'}. Best is trial 16 with value: 0.8221306277742549.\n",
      "[I 2025-04-09 17:07:22,066] Trial 22 finished with value: 0.7017543859649122 and parameters: {'C': 9.870991916970324, 'kernel': 'poly'}. Best is trial 16 with value: 0.8221306277742549.\n",
      "[I 2025-04-09 17:13:16,891] Trial 23 finished with value: 0.36916085394208414 and parameters: {'C': 0.0007341383643884531, 'kernel': 'poly'}. Best is trial 16 with value: 0.8221306277742549.\n",
      "[I 2025-04-09 17:19:39,192] Trial 24 finished with value: 0.40107799619530754 and parameters: {'C': 5.8771326590375185e-09, 'kernel': 'rbf'}. Best is trial 16 with value: 0.8221306277742549.\n",
      "[I 2025-04-09 17:25:18,667] Trial 25 finished with value: 0.43405199746353834 and parameters: {'C': 0.0192288327196007, 'kernel': 'poly'}. Best is trial 16 with value: 0.8221306277742549.\n",
      "[I 2025-04-09 17:32:08,576] Trial 26 finished with value: 0.4023462270133164 and parameters: {'C': 6.58874300043583e-16, 'kernel': 'rbf'}. Best is trial 16 with value: 0.8221306277742549.\n"
     ]
    }
   ],
   "source": [
    "# Step 1: Remap the class labels from [-1, 0, 1] to [2, 0, 1]\n",
    "df['category'] = df['category'].map({-1: 2, 0: 0, 1: 1})\n",
    "\n",
    "# Step 2: Remove rows where the target labels (category) are NaN\n",
    "df = df.dropna(subset=['category'])\n",
    "\n",
    "# Step 3: TF-IDF vectorizer setup\n",
    "ngram_range = (1, 3)  # Trigram\n",
    "max_features = 1000  # Set max_features to 1000\n",
    "vectorizer = TfidfVectorizer(ngram_range=ngram_range, max_features=max_features)\n",
    "X = vectorizer.fit_transform(df['clean_comment'])\n",
    "y = df['category']\n",
    "\n",
    "# Step 4: Apply SMOTE to handle class imbalance\n",
    "smote = SMOTE(random_state=42)\n",
    "X_resampled, y_resampled = smote.fit_resample(X, y)\n",
    "\n",
    "# Step 5: Train-test split\n",
    "X_train, X_test, y_train, y_test = train_test_split(X_resampled, y_resampled, test_size=0.2, random_state=42, stratify=y_resampled)\n",
    "\n",
    "# Function to log results in MLflow\n",
    "def log_mlflow(model_name, model, X_train, X_test, y_train, y_test):\n",
    "    with mlflow.start_run():\n",
    "        # Log model type\n",
    "        mlflow.set_tag(\"mlflow.runName\", f\"{model_name}_SMOTE_TFIDF_Trigrams\")\n",
    "        mlflow.set_tag(\"experiment_type\", \"algorithm_comparison\")\n",
    "\n",
    "        # Log algorithm name as a parameter\n",
    "        mlflow.log_param(\"algo_name\", model_name)\n",
    "\n",
    "        # Train model\n",
    "        model.fit(X_train, y_train)\n",
    "        y_pred = model.predict(X_test)\n",
    "\n",
    "        # Log accuracy\n",
    "        accuracy = accuracy_score(y_test, y_pred)\n",
    "        mlflow.log_metric(\"accuracy\", accuracy)\n",
    "\n",
    "        # Log classification report\n",
    "        classification_rep = classification_report(y_test, y_pred, output_dict=True)\n",
    "        for label, metrics in classification_rep.items():\n",
    "            if isinstance(metrics, dict):\n",
    "                for metric, value in metrics.items():\n",
    "                    mlflow.log_metric(f\"{label}_{metric}\", value)\n",
    "\n",
    "        # Log the model\n",
    "        mlflow.sklearn.log_model(model, f\"{model_name}_model\")\n",
    "\n",
    "\n",
    "# Step 6: Optuna objective function for LightGBM\n",
    "def objective_lightgbm(trial):\n",
    "    C = trial.suggest_float('C', 1e-40, 10.0, log=True)\n",
    "    kernel = trial.suggest_categorical('kernel', ['linear', 'rbf', 'poly'])\n",
    "\n",
    "    model = SVC(C=C, kernel=kernel, random_state=42)\n",
    "    return accuracy_score(y_test, model.fit(X_train, y_train).predict(X_test))\n",
    "\n",
    "\n",
    "# Step 7: Run Optuna for LightGBM, log the best model only\n",
    "def run_optuna_experiment():\n",
    "    study = optuna.create_study(direction=\"maximize\")\n",
    "    study.optimize(objective_lightgbm, n_trials=30)\n",
    "\n",
    "    # Get the best parameters and log only the best model\n",
    "    best_params = study.best_params\n",
    "    best_model = model = SVC(C=best_params['C'], kernel=best_params['kernel'], random_state=42)\n",
    "    # Log the best model with MLflow, passing the algo_name as \"LightGBM\"\n",
    "    log_mlflow(\"SVM\", best_model, X_train, X_test, y_train, y_test)\n",
    "\n",
    "# Run the experiment for LightGBM\n",
    "run_optuna_experiment()\n"
   ]
  }
 ],
 "metadata": {
  "kernelspec": {
   "display_name": "base",
   "language": "python",
   "name": "python3"
  },
  "language_info": {
   "codemirror_mode": {
    "name": "ipython",
    "version": 3
   },
   "file_extension": ".py",
   "mimetype": "text/x-python",
   "name": "python",
   "nbconvert_exporter": "python",
   "pygments_lexer": "ipython3",
   "version": "3.12.4"
  }
 },
 "nbformat": 4,
 "nbformat_minor": 5
}
