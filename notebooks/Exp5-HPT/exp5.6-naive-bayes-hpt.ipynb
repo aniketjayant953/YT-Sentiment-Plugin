{
 "cells": [
  {
   "cell_type": "code",
   "execution_count": 3,
   "id": "d8fcd737",
   "metadata": {},
   "outputs": [],
   "source": [
    "# Step 2: Set up mlflow tracking server\n",
    "import mlflow\n",
    "\n",
    "mlflow.set_tracking_uri(\"http://ec2-13-61-19-60.eu-north-1.compute.amazonaws.com:5000/\")"
   ]
  },
  {
   "cell_type": "code",
   "execution_count": 4,
   "id": "3b5d8588",
   "metadata": {},
   "outputs": [
    {
     "data": {
      "text/plain": [
       "<Experiment: artifact_location='s3://yt-plugin-bucket/201394593778390276', creation_time=1744190402646, experiment_id='201394593778390276', last_update_time=1744190402646, lifecycle_stage='active', name='Exp 5: ML Algos with HP Tuning', tags={}>"
      ]
     },
     "execution_count": 4,
     "metadata": {},
     "output_type": "execute_result"
    }
   ],
   "source": [
    "# Set or create an experiment\n",
    "mlflow.set_experiment(\"Exp 5: ML Algos with HP Tuning\")"
   ]
  },
  {
   "cell_type": "code",
   "execution_count": 5,
   "id": "ce243c7b",
   "metadata": {},
   "outputs": [],
   "source": [
    "import pandas as pd\n",
    "from sklearn.feature_extraction.text import TfidfVectorizer\n",
    "from sklearn.model_selection import train_test_split\n",
    "from sklearn.metrics import accuracy_score, classification_report\n",
    "from sklearn.naive_bayes import MultinomialNB\n",
    "from imblearn.over_sampling import SMOTE\n",
    "import mlflow\n",
    "import mlflow.sklearn\n",
    "import optuna"
   ]
  },
  {
   "cell_type": "code",
   "execution_count": 6,
   "id": "841f8c92",
   "metadata": {},
   "outputs": [
    {
     "data": {
      "text/plain": [
       "(36662, 2)"
      ]
     },
     "execution_count": 6,
     "metadata": {},
     "output_type": "execute_result"
    }
   ],
   "source": [
    "df = pd.read_csv('../data/reddit_preprocessing.csv').dropna()\n",
    "df.shape"
   ]
  },
  {
   "cell_type": "code",
   "execution_count": 7,
   "id": "98e35796",
   "metadata": {},
   "outputs": [
    {
     "name": "stderr",
     "output_type": "stream",
     "text": [
      "[I 2025-04-09 15:59:28,774] A new study created in memory with name: no-name-ad5cd699-ae1a-4df3-ac6b-4faa8695bb54\n",
      "[I 2025-04-09 15:59:28,791] Trial 0 finished with value: 0.6666666666666666 and parameters: {'alpha': 0.20876419016036257}. Best is trial 0 with value: 0.6666666666666666.\n",
      "[I 2025-04-09 15:59:28,831] Trial 1 finished with value: 0.66856901289368 and parameters: {'alpha': 0.0001152436395044266}. Best is trial 1 with value: 0.66856901289368.\n",
      "[I 2025-04-09 15:59:28,847] Trial 2 finished with value: 0.66856901289368 and parameters: {'alpha': 0.0005221794150939658}. Best is trial 1 with value: 0.66856901289368.\n",
      "[I 2025-04-09 15:59:28,872] Trial 3 finished with value: 0.6683576410906785 and parameters: {'alpha': 0.005431098233414973}. Best is trial 1 with value: 0.66856901289368.\n",
      "[I 2025-04-09 15:59:28,888] Trial 4 finished with value: 0.6663496089621644 and parameters: {'alpha': 0.2787949410345544}. Best is trial 1 with value: 0.66856901289368.\n",
      "[I 2025-04-09 15:59:28,903] Trial 5 finished with value: 0.6682519551891778 and parameters: {'alpha': 0.05155439410292491}. Best is trial 1 with value: 0.66856901289368.\n",
      "[I 2025-04-09 15:59:28,917] Trial 6 finished with value: 0.66856901289368 and parameters: {'alpha': 0.0003610089914571958}. Best is trial 1 with value: 0.66856901289368.\n",
      "[I 2025-04-09 15:59:28,932] Trial 7 finished with value: 0.66856901289368 and parameters: {'alpha': 0.0001468024325897545}. Best is trial 1 with value: 0.66856901289368.\n",
      "[I 2025-04-09 15:59:28,950] Trial 8 finished with value: 0.66856901289368 and parameters: {'alpha': 0.0001123033209105179}. Best is trial 1 with value: 0.66856901289368.\n",
      "[I 2025-04-09 15:59:28,965] Trial 9 finished with value: 0.6662439230606637 and parameters: {'alpha': 0.4982768057270414}. Best is trial 1 with value: 0.66856901289368.\n",
      "[I 2025-04-09 15:59:28,989] Trial 10 finished with value: 0.66856901289368 and parameters: {'alpha': 0.002941914164875}. Best is trial 1 with value: 0.66856901289368.\n",
      "[I 2025-04-09 15:59:29,012] Trial 11 finished with value: 0.66856901289368 and parameters: {'alpha': 0.0007789782711840451}. Best is trial 1 with value: 0.66856901289368.\n",
      "[I 2025-04-09 15:59:29,032] Trial 12 finished with value: 0.66856901289368 and parameters: {'alpha': 0.0013484989930967737}. Best is trial 1 with value: 0.66856901289368.\n",
      "[I 2025-04-09 15:59:29,053] Trial 13 finished with value: 0.6681462692876771 and parameters: {'alpha': 0.02196875390514733}. Best is trial 1 with value: 0.66856901289368.\n",
      "[I 2025-04-09 15:59:29,074] Trial 14 finished with value: 0.66856901289368 and parameters: {'alpha': 0.00025822883860568993}. Best is trial 1 with value: 0.66856901289368.\n",
      "[I 2025-04-09 15:59:29,104] Trial 15 finished with value: 0.66856901289368 and parameters: {'alpha': 0.0008468910042833087}. Best is trial 1 with value: 0.66856901289368.\n",
      "[I 2025-04-09 15:59:29,126] Trial 16 finished with value: 0.66856901289368 and parameters: {'alpha': 0.002218400970240169}. Best is trial 1 with value: 0.66856901289368.\n",
      "[I 2025-04-09 15:59:29,150] Trial 17 finished with value: 0.66856901289368 and parameters: {'alpha': 0.00042711937404814966}. Best is trial 1 with value: 0.66856901289368.\n",
      "[I 2025-04-09 15:59:29,173] Trial 18 finished with value: 0.6682519551891778 and parameters: {'alpha': 0.01282209640437557}. Best is trial 1 with value: 0.66856901289368.\n",
      "[I 2025-04-09 15:59:29,192] Trial 19 finished with value: 0.66856901289368 and parameters: {'alpha': 0.00010491298611122776}. Best is trial 1 with value: 0.66856901289368.\n",
      "[I 2025-04-09 15:59:29,213] Trial 20 finished with value: 0.6683576410906785 and parameters: {'alpha': 0.06138643762346815}. Best is trial 1 with value: 0.66856901289368.\n",
      "[I 2025-04-09 15:59:29,233] Trial 21 finished with value: 0.66856901289368 and parameters: {'alpha': 0.0003253994898621684}. Best is trial 1 with value: 0.66856901289368.\n",
      "[I 2025-04-09 15:59:29,254] Trial 22 finished with value: 0.66856901289368 and parameters: {'alpha': 0.0004313681471123285}. Best is trial 1 with value: 0.66856901289368.\n",
      "[I 2025-04-09 15:59:29,274] Trial 23 finished with value: 0.66856901289368 and parameters: {'alpha': 0.00020024674599985673}. Best is trial 1 with value: 0.66856901289368.\n",
      "[I 2025-04-09 15:59:29,293] Trial 24 finished with value: 0.66856901289368 and parameters: {'alpha': 0.0007422990516984005}. Best is trial 1 with value: 0.66856901289368.\n",
      "[I 2025-04-09 15:59:29,314] Trial 25 finished with value: 0.6683576410906785 and parameters: {'alpha': 0.004348638506109621}. Best is trial 1 with value: 0.66856901289368.\n",
      "[I 2025-04-09 15:59:29,339] Trial 26 finished with value: 0.66856901289368 and parameters: {'alpha': 0.001353192195897269}. Best is trial 1 with value: 0.66856901289368.\n",
      "[I 2025-04-09 15:59:29,360] Trial 27 finished with value: 0.66856901289368 and parameters: {'alpha': 0.00023809115852571123}. Best is trial 1 with value: 0.66856901289368.\n",
      "[I 2025-04-09 15:59:29,384] Trial 28 finished with value: 0.66856901289368 and parameters: {'alpha': 0.00048302023656514016}. Best is trial 1 with value: 0.66856901289368.\n",
      "[I 2025-04-09 15:59:29,406] Trial 29 finished with value: 0.66856901289368 and parameters: {'alpha': 0.001508570121321827}. Best is trial 1 with value: 0.66856901289368.\n",
      "2025/04/09 15:59:55 WARNING mlflow.models.model: Model logged without a signature and input example. Please set `input_example` parameter when logging the model to auto infer the model signature.\n"
     ]
    },
    {
     "name": "stdout",
     "output_type": "stream",
     "text": [
      "🏃 View run MultinomialNB_SMOTE_TFIDF_Trigrams at: http://ec2-13-61-19-60.eu-north-1.compute.amazonaws.com:5000/#/experiments/201394593778390276/runs/ef1fd49beae1443abcf9e0d5a45e881e\n",
      "🧪 View experiment at: http://ec2-13-61-19-60.eu-north-1.compute.amazonaws.com:5000/#/experiments/201394593778390276\n"
     ]
    }
   ],
   "source": [
    "# Step 1: (Optional) Remapping - skipped since not strictly needed for Multinomial Naive Bayes\n",
    "\n",
    "# Step 2: Remove rows where the target labels (category) are NaN\n",
    "df = df.dropna(subset=['category'])\n",
    "\n",
    "# Step 3: TF-IDF vectorizer setup\n",
    "ngram_range = (1, 3)  # Trigram\n",
    "max_features = 1000  # Set max_features to 1000\n",
    "vectorizer = TfidfVectorizer(ngram_range=ngram_range, max_features=max_features)\n",
    "X = vectorizer.fit_transform(df['clean_comment'])\n",
    "y = df['category']\n",
    "\n",
    "# Step 4: Apply SMOTE to handle class imbalance\n",
    "smote = SMOTE(random_state=42)\n",
    "X_resampled, y_resampled = smote.fit_resample(X, y)\n",
    "\n",
    "# Step 5: Train-test split\n",
    "X_train, X_test, y_train, y_test = train_test_split(X_resampled, y_resampled, test_size=0.2, random_state=42, stratify=y_resampled)\n",
    "\n",
    "# Function to log results in MLflow\n",
    "def log_mlflow(model_name, model, X_train, X_test, y_train, y_test):\n",
    "    with mlflow.start_run():\n",
    "        # Log model type\n",
    "        mlflow.set_tag(\"mlflow.runName\", f\"{model_name}_SMOTE_TFIDF_Trigrams\")\n",
    "        mlflow.set_tag(\"experiment_type\", \"algorithm_comparison\")\n",
    "\n",
    "        # Log algorithm name as a parameter\n",
    "        mlflow.log_param(\"algo_name\", model_name)\n",
    "\n",
    "        # Train model\n",
    "        model.fit(X_train, y_train)\n",
    "        y_pred = model.predict(X_test)\n",
    "\n",
    "        # Log accuracy\n",
    "        accuracy = accuracy_score(y_test, y_pred)\n",
    "        mlflow.log_metric(\"accuracy\", accuracy)\n",
    "\n",
    "        # Log classification report\n",
    "        classification_rep = classification_report(y_test, y_pred, output_dict=True)\n",
    "        for label, metrics in classification_rep.items():\n",
    "            if isinstance(metrics, dict):\n",
    "                for metric, value in metrics.items():\n",
    "                    mlflow.log_metric(f\"{label}_{metric}\", value)\n",
    "\n",
    "        # Log the model\n",
    "        mlflow.sklearn.log_model(model, f\"{model_name}_model\")\n",
    "\n",
    "\n",
    "# Step 6: Optuna objective function for Multinomial Naive Bayes\n",
    "def objective_mnb(trial):\n",
    "    alpha = trial.suggest_float('alpha', 1e-4, 1.0, log=True)  # Tuning the smoothing parameter\n",
    "\n",
    "    # MultinomialNB model setup\n",
    "    model = MultinomialNB(alpha=alpha)\n",
    "    return accuracy_score(y_test, model.fit(X_train, y_train).predict(X_test))\n",
    "\n",
    "\n",
    "# Step 7: Run Optuna for Multinomial Naive Bayes, log the best model only\n",
    "def run_optuna_experiment():\n",
    "    study = optuna.create_study(direction=\"maximize\")\n",
    "    study.optimize(objective_mnb, n_trials=30)\n",
    "\n",
    "    # Get the best parameters and log only the best model\n",
    "    best_params = study.best_params\n",
    "    best_model = MultinomialNB(alpha=best_params['alpha'])\n",
    "\n",
    "    # Log the best model with MLflow, passing the algo_name as \"MultinomialNB\"\n",
    "    log_mlflow(\"MultinomialNB\", best_model, X_train, X_test, y_train, y_test)\n",
    "\n",
    "# Run the experiment for Multinomial Naive Bayes\n",
    "run_optuna_experiment()\n"
   ]
  },
  {
   "cell_type": "code",
   "execution_count": null,
   "id": "dabc9a31",
   "metadata": {},
   "outputs": [],
   "source": []
  }
 ],
 "metadata": {
  "kernelspec": {
   "display_name": "base",
   "language": "python",
   "name": "python3"
  },
  "language_info": {
   "codemirror_mode": {
    "name": "ipython",
    "version": 3
   },
   "file_extension": ".py",
   "mimetype": "text/x-python",
   "name": "python",
   "nbconvert_exporter": "python",
   "pygments_lexer": "ipython3",
   "version": "3.12.4"
  }
 },
 "nbformat": 4,
 "nbformat_minor": 5
}
